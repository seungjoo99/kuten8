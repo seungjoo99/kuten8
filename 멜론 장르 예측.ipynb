{
 "cells": [
  {
   "cell_type": "code",
   "execution_count": 1,
   "metadata": {},
   "outputs": [],
   "source": [
    "import pandas as pd\n",
    "import numpy as np\n",
    "import konlpy\n",
    "import sys\n",
    "if sys.version_info <= (2,7):\n",
    "    reload(sys)\n",
    "    sys.setdefaultencoding('utf-8')\n",
    "from konlpy.tag import Kkma, Okt, Hannanum\n",
    "import matplotlib.pyplot as plt\n",
    "from sklearn.model_selection import train_test_split\n",
    "kkma = Kkma()\n",
    "okt = Okt()\n",
    "hannanum = Hannanum()\n",
    "\n",
    "\n",
    "bal=pd.read_csv('data/melonbal.csv', encoding='cp949')\n",
    "dan=pd.read_csv('data/melondan.csv', encoding='cp949')\n",
    "hip=pd.read_csv('data/melonhip.csv', encoding='cp949')\n",
    "rb=pd.read_csv('data/melonr_b.csv', encoding='cp949')\n",
    "indi=pd.read_csv('data/melonindi.csv', encoding='cp949')\n",
    "rock=pd.read_csv('data/melonrock.csv', encoding='cp949')\n",
    "tst=pd.read_csv('data/melontwist.csv', encoding='cp949')\n",
    "bf=pd.read_csv('data/melonbluefork.csv', encoding='cp949')"
   ]
  },
  {
   "cell_type": "markdown",
   "metadata": {},
   "source": [
    "###### 제목,랭크 없애기"
   ]
  },
  {
   "cell_type": "code",
   "execution_count": 2,
   "metadata": {},
   "outputs": [],
   "source": [
    "bal=bal.drop([' 제목'], axis=1)\n",
    "bal=bal.drop(['랭크'], axis=1)\n",
    "dan=dan.drop([' 제목'], axis=1)\n",
    "dan=dan.drop(['랭크'], axis=1)\n",
    "hip=hip.drop([' 제목'], axis=1)\n",
    "hip=hip.drop(['랭크'], axis=1)\n",
    "rb=rb.drop([' 제목'], axis=1)\n",
    "rb=rb.drop(['랭크'], axis=1)\n",
    "indi=indi.drop([' 제목'], axis=1)\n",
    "indi=indi.drop(['랭크'], axis=1)\n",
    "rock=rock.drop([' 제목'], axis=1)\n",
    "rock=rock.drop(['랭크'], axis=1)\n",
    "tst=tst.drop([' 제목'], axis=1)\n",
    "tst=tst.drop(['랭크'], axis=1)\n",
    "bf=bf.drop([' 제목'], axis=1)\n",
    "bf=bf.drop(['랭크'], axis=1)"
   ]
  },
  {
   "cell_type": "markdown",
   "metadata": {},
   "source": [
    "###### 봄 여름 가을 겨울 (1,2,3,4)"
   ]
  },
  {
   "cell_type": "code",
   "execution_count": 3,
   "metadata": {},
   "outputs": [],
   "source": [
    "bal.loc[(bal['발매월']>=3) & (bal['발매월']<=5), 'date']=1\n",
    "bal.loc[(bal['발매월']>=6) & (bal['발매월']<=8), 'date']=2\n",
    "bal.loc[(bal['발매월']>=9) & (bal['발매월']<=11), 'date']=3\n",
    "bal=bal.fillna(4)\n",
    "bal=bal.drop(['발매월'], axis=1)\n",
    "\n",
    "dan.loc[(dan['발매월']>=3) & (dan['발매월']<=5), 'date']=1\n",
    "dan.loc[(dan['발매월']>=6) & (dan['발매월']<=8), 'date']=2\n",
    "dan.loc[(dan['발매월']>=9) & (dan['발매월']<=11), 'date']=3\n",
    "dan=dan.fillna(4)\n",
    "dan=dan.drop(['발매월'], axis=1)\n",
    "\n",
    "hip.loc[(hip['발매월']>=3) & (hip['발매월']<=5), 'date']=1\n",
    "hip.loc[(hip['발매월']>=6) & (hip['발매월']<=8), 'date']=2\n",
    "hip.loc[(hip['발매월']>=9) & (hip['발매월']<=11), 'date']=3\n",
    "hip=hip.fillna(4)\n",
    "hip=hip.drop(['발매월'], axis=1)\n",
    "\n",
    "rb.loc[(rb['발매월']>=3) & (rb['발매월']<=5), 'date']=1\n",
    "rb.loc[(rb['발매월']>=6) & (rb['발매월']<=8), 'date']=2\n",
    "rb.loc[(rb['발매월']>=9) & (rb['발매월']<=11), 'date']=3\n",
    "rb=rb.fillna(4)\n",
    "rb=rb.drop(['발매월'], axis=1)\n",
    "\n",
    "indi.loc[(indi['발매월']>=3) & (indi['발매월']<=5), 'date']=1\n",
    "indi.loc[(indi['발매월']>=6) & (indi['발매월']<=8), 'date']=2\n",
    "indi.loc[(indi['발매월']>=9) & (indi['발매월']<=11), 'date']=3\n",
    "indi=indi.fillna(4)\n",
    "indi=indi.drop(['발매월'], axis=1)\n",
    "\n",
    "rock.loc[(rock['발매월']>=3) & (rock['발매월']<=5), 'date']=1\n",
    "rock.loc[(rock['발매월']>=6) & (rock['발매월']<=8), 'date']=2\n",
    "rock.loc[(rock['발매월']>=9) & (rock['발매월']<=11), 'date']=3\n",
    "rock=rock.fillna(4)\n",
    "rock=rock.drop(['발매월'], axis=1)\n",
    "\n",
    "tst.loc[(tst['발매월']>=3) & (tst['발매월']<=5), 'date']=1\n",
    "tst.loc[(tst['발매월']>=6) & (tst['발매월']<=8), 'date']=2\n",
    "tst.loc[(tst['발매월']>=9) & (tst['발매월']<=11), 'date']=3\n",
    "tst=tst.fillna(4)\n",
    "tst=tst.drop(['발매월'], axis=1)\n",
    "\n",
    "bf.loc[(bf['발매월']>=3) & (bf['발매월']<=5), 'date']=1\n",
    "bf.loc[(bf['발매월']>=6) & (bf['발매월']<=8), 'date']=2\n",
    "bf.loc[(bf['발매월']>=9) & (bf['발매월']<=11), 'date']=3\n",
    "bf=bf.fillna(4)\n",
    "bf=bf.drop(['발매월'], axis=1)"
   ]
  },
  {
   "cell_type": "code",
   "execution_count": 4,
   "metadata": {},
   "outputs": [
    {
     "data": {
      "text/html": [
       "<div>\n",
       "<style scoped>\n",
       "    .dataframe tbody tr th:only-of-type {\n",
       "        vertical-align: middle;\n",
       "    }\n",
       "\n",
       "    .dataframe tbody tr th {\n",
       "        vertical-align: top;\n",
       "    }\n",
       "\n",
       "    .dataframe thead th {\n",
       "        text-align: right;\n",
       "    }\n",
       "</style>\n",
       "<table border=\"1\" class=\"dataframe\">\n",
       "  <thead>\n",
       "    <tr style=\"text-align: right;\">\n",
       "      <th></th>\n",
       "      <th>타입</th>\n",
       "      <th>성별</th>\n",
       "      <th>가사</th>\n",
       "      <th>date</th>\n",
       "    </tr>\n",
       "  </thead>\n",
       "  <tbody>\n",
       "    <tr>\n",
       "      <th>0</th>\n",
       "      <td>그룹</td>\n",
       "      <td>남성</td>\n",
       "      <td>길었던 겨우내 줄곧 품이 좀 남는 밤색 코트 그 속에 나를 쏙 감추고 걸음을 재촉해...</td>\n",
       "      <td>1.0</td>\n",
       "    </tr>\n",
       "    <tr>\n",
       "      <th>1</th>\n",
       "      <td>솔로</td>\n",
       "      <td>여성</td>\n",
       "      <td>월요일엔 아마 바쁘지 않을까 화요일도 성급해 보이지 안 그래 수요일은 뭔가 어정쩡한...</td>\n",
       "      <td>4.0</td>\n",
       "    </tr>\n",
       "    <tr>\n",
       "      <th>2</th>\n",
       "      <td>솔로</td>\n",
       "      <td>여성</td>\n",
       "      <td>너의 그 한 마디 말도 그 웃음도 나에겐 커다란 의미 너의 그 작은 눈빛도 쓸쓸한 ...</td>\n",
       "      <td>1.0</td>\n",
       "    </tr>\n",
       "    <tr>\n",
       "      <th>3</th>\n",
       "      <td>솔로</td>\n",
       "      <td>남성</td>\n",
       "      <td>어느새 길어진 그림자를 따라서 땅거미 진 어둠 속을 그대와 걷고 있네요 손을 마주잡...</td>\n",
       "      <td>3.0</td>\n",
       "    </tr>\n",
       "    <tr>\n",
       "      <th>4</th>\n",
       "      <td>그룹</td>\n",
       "      <td>혼성</td>\n",
       "      <td>니 생각에 꽤 즐겁고 니 생각에 퍽 외로워 이상한 일이야 누굴 좋아한단 건 아무 일...</td>\n",
       "      <td>3.0</td>\n",
       "    </tr>\n",
       "  </tbody>\n",
       "</table>\n",
       "</div>"
      ],
      "text/plain": [
       "   타입 성별                                                  가사  date\n",
       "0  그룹  남성  길었던 겨우내 줄곧 품이 좀 남는 밤색 코트 그 속에 나를 쏙 감추고 걸음을 재촉해...   1.0\n",
       "1  솔로  여성  월요일엔 아마 바쁘지 않을까 화요일도 성급해 보이지 안 그래 수요일은 뭔가 어정쩡한...   4.0\n",
       "2  솔로  여성  너의 그 한 마디 말도 그 웃음도 나에겐 커다란 의미 너의 그 작은 눈빛도 쓸쓸한 ...   1.0\n",
       "3  솔로  남성  어느새 길어진 그림자를 따라서 땅거미 진 어둠 속을 그대와 걷고 있네요 손을 마주잡...   3.0\n",
       "4  그룹  혼성  니 생각에 꽤 즐겁고 니 생각에 퍽 외로워 이상한 일이야 누굴 좋아한단 건 아무 일...   3.0"
      ]
     },
     "execution_count": 4,
     "metadata": {},
     "output_type": "execute_result"
    }
   ],
   "source": [
    "bal.head()"
   ]
  },
  {
   "cell_type": "code",
   "execution_count": 5,
   "metadata": {
    "scrolled": true
   },
   "outputs": [
    {
     "data": {
      "text/html": [
       "<div>\n",
       "<style scoped>\n",
       "    .dataframe tbody tr th:only-of-type {\n",
       "        vertical-align: middle;\n",
       "    }\n",
       "\n",
       "    .dataframe tbody tr th {\n",
       "        vertical-align: top;\n",
       "    }\n",
       "\n",
       "    .dataframe thead th {\n",
       "        text-align: right;\n",
       "    }\n",
       "</style>\n",
       "<table border=\"1\" class=\"dataframe\">\n",
       "  <thead>\n",
       "    <tr style=\"text-align: right;\">\n",
       "      <th></th>\n",
       "      <th>타입</th>\n",
       "      <th>성별</th>\n",
       "      <th>가사</th>\n",
       "      <th>date</th>\n",
       "    </tr>\n",
       "  </thead>\n",
       "  <tbody>\n",
       "    <tr>\n",
       "      <th>0</th>\n",
       "      <td>솔로</td>\n",
       "      <td>여성</td>\n",
       "      <td>하얀 눈이 내려올 때면 온 세상이 물들을 때면 눈꽃이 피어나 또 빛이 나 눈이 부신...</td>\n",
       "      <td>4.0</td>\n",
       "    </tr>\n",
       "    <tr>\n",
       "      <th>1</th>\n",
       "      <td>솔로</td>\n",
       "      <td>여성</td>\n",
       "      <td>어쩜 이렇게 하늘은 더 파란 건지 오늘따라 왜 바람은 또 완벽한지 그냥 모르는 척 ...</td>\n",
       "      <td>4.0</td>\n",
       "    </tr>\n",
       "    <tr>\n",
       "      <th>2</th>\n",
       "      <td>솔로</td>\n",
       "      <td>여성</td>\n",
       "      <td>시곌 보며 속삭이는 비밀들 간절한 내 맘속 이야기 지금 내 모습을 해쳐도 좋아 나를...</td>\n",
       "      <td>3.0</td>\n",
       "    </tr>\n",
       "    <tr>\n",
       "      <th>3</th>\n",
       "      <td>그룹</td>\n",
       "      <td>여성</td>\n",
       "      <td>기억하나요 우리 함께 했던 시간 L O V E LUV 설레이나요 한 땐 모든 것이었...</td>\n",
       "      <td>3.0</td>\n",
       "    </tr>\n",
       "    <tr>\n",
       "      <th>4</th>\n",
       "      <td>그룹</td>\n",
       "      <td>남성</td>\n",
       "      <td>거짓말 늦은 밤 비가 내려와 널 데려와 젖은 기억 끝에 뒤척여 나 너 없이 잘 살 ...</td>\n",
       "      <td>3.0</td>\n",
       "    </tr>\n",
       "  </tbody>\n",
       "</table>\n",
       "</div>"
      ],
      "text/plain": [
       "   타입  성별                                                  가사  date\n",
       "0  솔로   여성  하얀 눈이 내려올 때면 온 세상이 물들을 때면 눈꽃이 피어나 또 빛이 나 눈이 부신...   4.0\n",
       "1  솔로   여성  어쩜 이렇게 하늘은 더 파란 건지 오늘따라 왜 바람은 또 완벽한지 그냥 모르는 척 ...   4.0\n",
       "2  솔로   여성  시곌 보며 속삭이는 비밀들 간절한 내 맘속 이야기 지금 내 모습을 해쳐도 좋아 나를...   3.0\n",
       "3  그룹   여성  기억하나요 우리 함께 했던 시간 L O V E LUV 설레이나요 한 땐 모든 것이었...   3.0\n",
       "4  그룹   남성  거짓말 늦은 밤 비가 내려와 널 데려와 젖은 기억 끝에 뒤척여 나 너 없이 잘 살 ...   3.0"
      ]
     },
     "execution_count": 5,
     "metadata": {},
     "output_type": "execute_result"
    }
   ],
   "source": [
    "dan.head()"
   ]
  },
  {
   "cell_type": "code",
   "execution_count": 6,
   "metadata": {
    "scrolled": true
   },
   "outputs": [
    {
     "data": {
      "text/html": [
       "<div>\n",
       "<style scoped>\n",
       "    .dataframe tbody tr th:only-of-type {\n",
       "        vertical-align: middle;\n",
       "    }\n",
       "\n",
       "    .dataframe tbody tr th {\n",
       "        vertical-align: top;\n",
       "    }\n",
       "\n",
       "    .dataframe thead th {\n",
       "        text-align: right;\n",
       "    }\n",
       "</style>\n",
       "<table border=\"1\" class=\"dataframe\">\n",
       "  <thead>\n",
       "    <tr style=\"text-align: right;\">\n",
       "      <th></th>\n",
       "      <th>타입</th>\n",
       "      <th>성별</th>\n",
       "      <th>가사</th>\n",
       "      <th>date</th>\n",
       "    </tr>\n",
       "  </thead>\n",
       "  <tbody>\n",
       "    <tr>\n",
       "      <th>0</th>\n",
       "      <td>솔로</td>\n",
       "      <td>남성</td>\n",
       "      <td>무더운 밤 잠은 오지 않고 이런저런 생각에 불러본 너 나올 줄 몰랐어 간지러운 바람...</td>\n",
       "      <td>2.0</td>\n",
       "    </tr>\n",
       "    <tr>\n",
       "      <th>1</th>\n",
       "      <td>솔로</td>\n",
       "      <td>남성</td>\n",
       "      <td>난 이제 익숙해지는 것 같아 키가 작을 때부터 해왔던 상상 마음껏 펼치고는 꿀 같은...</td>\n",
       "      <td>3.0</td>\n",
       "    </tr>\n",
       "    <tr>\n",
       "      <th>2</th>\n",
       "      <td>솔로</td>\n",
       "      <td>남성</td>\n",
       "      <td>내가 그때 널 잡았더라면 너와 나 지금보다 행복했을까 마지막에 널 안아줬다면 어땠을...</td>\n",
       "      <td>2.0</td>\n",
       "    </tr>\n",
       "    <tr>\n",
       "      <th>3</th>\n",
       "      <td>솔로</td>\n",
       "      <td>남성</td>\n",
       "      <td>난 오늘밤도 너를 떠올려 니가 모르게 니가 모르게 난 지금 이 순간에도 어김없이 너...</td>\n",
       "      <td>3.0</td>\n",
       "    </tr>\n",
       "    <tr>\n",
       "      <th>4</th>\n",
       "      <td>그룹</td>\n",
       "      <td>남성</td>\n",
       "      <td>어느새 빗물이 내 발목에 고이고 참았던 눈물이 내 눈가에 고이고 I cry 텅빈 방...</td>\n",
       "      <td>1.0</td>\n",
       "    </tr>\n",
       "  </tbody>\n",
       "</table>\n",
       "</div>"
      ],
      "text/plain": [
       "   타입  성별                                                  가사  date\n",
       "0  솔로   남성  무더운 밤 잠은 오지 않고 이런저런 생각에 불러본 너 나올 줄 몰랐어 간지러운 바람...   2.0\n",
       "1  솔로   남성  난 이제 익숙해지는 것 같아 키가 작을 때부터 해왔던 상상 마음껏 펼치고는 꿀 같은...   3.0\n",
       "2  솔로   남성  내가 그때 널 잡았더라면 너와 나 지금보다 행복했을까 마지막에 널 안아줬다면 어땠을...   2.0\n",
       "3  솔로   남성  난 오늘밤도 너를 떠올려 니가 모르게 니가 모르게 난 지금 이 순간에도 어김없이 너...   3.0\n",
       "4  그룹   남성  어느새 빗물이 내 발목에 고이고 참았던 눈물이 내 눈가에 고이고 I cry 텅빈 방...   1.0"
      ]
     },
     "execution_count": 6,
     "metadata": {},
     "output_type": "execute_result"
    }
   ],
   "source": [
    "hip.head()"
   ]
  },
  {
   "cell_type": "code",
   "execution_count": 7,
   "metadata": {
    "scrolled": false
   },
   "outputs": [
    {
     "data": {
      "text/html": [
       "<div>\n",
       "<style scoped>\n",
       "    .dataframe tbody tr th:only-of-type {\n",
       "        vertical-align: middle;\n",
       "    }\n",
       "\n",
       "    .dataframe tbody tr th {\n",
       "        vertical-align: top;\n",
       "    }\n",
       "\n",
       "    .dataframe thead th {\n",
       "        text-align: right;\n",
       "    }\n",
       "</style>\n",
       "<table border=\"1\" class=\"dataframe\">\n",
       "  <thead>\n",
       "    <tr style=\"text-align: right;\">\n",
       "      <th></th>\n",
       "      <th>타입</th>\n",
       "      <th>성별</th>\n",
       "      <th>가사</th>\n",
       "      <th>date</th>\n",
       "    </tr>\n",
       "  </thead>\n",
       "  <tbody>\n",
       "    <tr>\n",
       "      <th>0</th>\n",
       "      <td>솔로</td>\n",
       "      <td>남성</td>\n",
       "      <td>비 내리는 날엔 우산이 돼 주고 어둠이 오면 빛이 돼 줄게 추운 겨울이면 난로가 돼...</td>\n",
       "      <td>4.0</td>\n",
       "    </tr>\n",
       "    <tr>\n",
       "      <th>1</th>\n",
       "      <td>솔로</td>\n",
       "      <td>남성</td>\n",
       "      <td>우리 집에는 매일 나 홀로 있었지 아버지는 택시드라이버 어디냐고 여쭤보면 항상 양화...</td>\n",
       "      <td>3.0</td>\n",
       "    </tr>\n",
       "    <tr>\n",
       "      <th>2</th>\n",
       "      <td>솔로</td>\n",
       "      <td>여성</td>\n",
       "      <td>벌써 넌 내가 편하니 웃으며 인사 할 만큼 까맣게 나를 잊었니 네 곁에 있는 사람 ...</td>\n",
       "      <td>4.0</td>\n",
       "    </tr>\n",
       "    <tr>\n",
       "      <th>3</th>\n",
       "      <td>솔로</td>\n",
       "      <td>남성</td>\n",
       "      <td>바람 불어와 내 맘 흔들면 지나간 세월에 두 눈을 감아본다 나를 스치는 고요한 떨림...</td>\n",
       "      <td>3.0</td>\n",
       "    </tr>\n",
       "    <tr>\n",
       "      <th>4</th>\n",
       "      <td>그룹</td>\n",
       "      <td>남성</td>\n",
       "      <td>처음이라 그래 며칠뒤엔 괜찮아져 그 생각만으로 벌써 일년이 너와 만든 기념일마다 슬...</td>\n",
       "      <td>2.0</td>\n",
       "    </tr>\n",
       "  </tbody>\n",
       "</table>\n",
       "</div>"
      ],
      "text/plain": [
       "   타입  성별                                                  가사  date\n",
       "0  솔로   남성  비 내리는 날엔 우산이 돼 주고 어둠이 오면 빛이 돼 줄게 추운 겨울이면 난로가 돼...   4.0\n",
       "1  솔로   남성  우리 집에는 매일 나 홀로 있었지 아버지는 택시드라이버 어디냐고 여쭤보면 항상 양화...   3.0\n",
       "2  솔로   여성  벌써 넌 내가 편하니 웃으며 인사 할 만큼 까맣게 나를 잊었니 네 곁에 있는 사람 ...   4.0\n",
       "3  솔로   남성  바람 불어와 내 맘 흔들면 지나간 세월에 두 눈을 감아본다 나를 스치는 고요한 떨림...   3.0\n",
       "4  그룹   남성  처음이라 그래 며칠뒤엔 괜찮아져 그 생각만으로 벌써 일년이 너와 만든 기념일마다 슬...   2.0"
      ]
     },
     "execution_count": 7,
     "metadata": {},
     "output_type": "execute_result"
    }
   ],
   "source": [
    "rb.head()"
   ]
  },
  {
   "cell_type": "code",
   "execution_count": 8,
   "metadata": {},
   "outputs": [
    {
     "data": {
      "text/html": [
       "<div>\n",
       "<style scoped>\n",
       "    .dataframe tbody tr th:only-of-type {\n",
       "        vertical-align: middle;\n",
       "    }\n",
       "\n",
       "    .dataframe tbody tr th {\n",
       "        vertical-align: top;\n",
       "    }\n",
       "\n",
       "    .dataframe thead th {\n",
       "        text-align: right;\n",
       "    }\n",
       "</style>\n",
       "<table border=\"1\" class=\"dataframe\">\n",
       "  <thead>\n",
       "    <tr style=\"text-align: right;\">\n",
       "      <th></th>\n",
       "      <th>타입</th>\n",
       "      <th>성별</th>\n",
       "      <th>가사</th>\n",
       "      <th>date</th>\n",
       "    </tr>\n",
       "  </thead>\n",
       "  <tbody>\n",
       "    <tr>\n",
       "      <th>0</th>\n",
       "      <td>솔로</td>\n",
       "      <td>남성</td>\n",
       "      <td>서러운 맘을 못 이겨 잠 못 들던 어둔 밤을 또 견디고 내 절망관 상관없이 무심하게...</td>\n",
       "      <td>3.0</td>\n",
       "    </tr>\n",
       "    <tr>\n",
       "      <th>1</th>\n",
       "      <td>그룹</td>\n",
       "      <td>남성</td>\n",
       "      <td>나도 알아 나의 문제가 무엇인지 난 못났고 별 볼 일 없지 그 애가 나를 부끄러워 ...</td>\n",
       "      <td>3.0</td>\n",
       "    </tr>\n",
       "    <tr>\n",
       "      <th>2</th>\n",
       "      <td>그룹</td>\n",
       "      <td>남성</td>\n",
       "      <td>비틀비틀 걸어가는 나의 다리 오늘도 의미없는 또 하루가 흘러가죠 사랑도 끼리끼리 하...</td>\n",
       "      <td>3.0</td>\n",
       "    </tr>\n",
       "    <tr>\n",
       "      <th>3</th>\n",
       "      <td>그룹</td>\n",
       "      <td>남성</td>\n",
       "      <td>Tonight 널 바래다 주는 길 내내 내가 변했다고 말하지 널 생각하지 않는다고 ...</td>\n",
       "      <td>3.0</td>\n",
       "    </tr>\n",
       "    <tr>\n",
       "      <th>4</th>\n",
       "      <td>솔로</td>\n",
       "      <td>남성</td>\n",
       "      <td>벌써 몇 달 짼가 너 만난다는 그 사람 얘길 들었어 아마 뭔 일이 있었나 저쨌나 떠...</td>\n",
       "      <td>4.0</td>\n",
       "    </tr>\n",
       "  </tbody>\n",
       "</table>\n",
       "</div>"
      ],
      "text/plain": [
       "   타입  성별                                                  가사  date\n",
       "0  솔로   남성  서러운 맘을 못 이겨 잠 못 들던 어둔 밤을 또 견디고 내 절망관 상관없이 무심하게...   3.0\n",
       "1  그룹   남성  나도 알아 나의 문제가 무엇인지 난 못났고 별 볼 일 없지 그 애가 나를 부끄러워 ...   3.0\n",
       "2  그룹   남성  비틀비틀 걸어가는 나의 다리 오늘도 의미없는 또 하루가 흘러가죠 사랑도 끼리끼리 하...   3.0\n",
       "3  그룹   남성  Tonight 널 바래다 주는 길 내내 내가 변했다고 말하지 널 생각하지 않는다고 ...   3.0\n",
       "4  솔로   남성  벌써 몇 달 짼가 너 만난다는 그 사람 얘길 들었어 아마 뭔 일이 있었나 저쨌나 떠...   4.0"
      ]
     },
     "execution_count": 8,
     "metadata": {},
     "output_type": "execute_result"
    }
   ],
   "source": [
    "indi.head()"
   ]
  },
  {
   "cell_type": "code",
   "execution_count": 9,
   "metadata": {
    "scrolled": true
   },
   "outputs": [
    {
     "data": {
      "text/html": [
       "<div>\n",
       "<style scoped>\n",
       "    .dataframe tbody tr th:only-of-type {\n",
       "        vertical-align: middle;\n",
       "    }\n",
       "\n",
       "    .dataframe tbody tr th {\n",
       "        vertical-align: top;\n",
       "    }\n",
       "\n",
       "    .dataframe thead th {\n",
       "        text-align: right;\n",
       "    }\n",
       "</style>\n",
       "<table border=\"1\" class=\"dataframe\">\n",
       "  <thead>\n",
       "    <tr style=\"text-align: right;\">\n",
       "      <th></th>\n",
       "      <th>타입</th>\n",
       "      <th>성별</th>\n",
       "      <th>가사</th>\n",
       "      <th>date</th>\n",
       "    </tr>\n",
       "  </thead>\n",
       "  <tbody>\n",
       "    <tr>\n",
       "      <th>0</th>\n",
       "      <td>그룹</td>\n",
       "      <td>남성</td>\n",
       "      <td>그대여 그대여 그대여 그대여 그대여 오늘은 우리 같이 걸어요 이 거리를 밤에 들려오...</td>\n",
       "      <td>1.0</td>\n",
       "    </tr>\n",
       "    <tr>\n",
       "      <th>1</th>\n",
       "      <td>솔로</td>\n",
       "      <td>남성</td>\n",
       "      <td>서러운 맘을 못 이겨 잠 못 들던 어둔 밤을 또 견디고 내 절망관 상관없이 무심하게...</td>\n",
       "      <td>3.0</td>\n",
       "    </tr>\n",
       "    <tr>\n",
       "      <th>2</th>\n",
       "      <td>그룹</td>\n",
       "      <td>남성</td>\n",
       "      <td>비틀비틀 걸어가는 나의 다리 오늘도 의미없는 또 하루가 흘러가죠 사랑도 끼리끼리 하...</td>\n",
       "      <td>3.0</td>\n",
       "    </tr>\n",
       "    <tr>\n",
       "      <th>3</th>\n",
       "      <td>그룹</td>\n",
       "      <td>남성</td>\n",
       "      <td>아직도 너의 소리를 듣고 아직도 너의 손길을 느껴 오늘도 난 너의 흔적 안에 살았죠...</td>\n",
       "      <td>2.0</td>\n",
       "    </tr>\n",
       "    <tr>\n",
       "      <th>4</th>\n",
       "      <td>그룹</td>\n",
       "      <td>남성</td>\n",
       "      <td>Tonight 널 바래다 주는 길 내내 내가 변했다고 말하지 널 생각하지 않는다고 ...</td>\n",
       "      <td>3.0</td>\n",
       "    </tr>\n",
       "  </tbody>\n",
       "</table>\n",
       "</div>"
      ],
      "text/plain": [
       "   타입  성별                                                  가사  date\n",
       "0  그룹   남성  그대여 그대여 그대여 그대여 그대여 오늘은 우리 같이 걸어요 이 거리를 밤에 들려오...   1.0\n",
       "1  솔로   남성  서러운 맘을 못 이겨 잠 못 들던 어둔 밤을 또 견디고 내 절망관 상관없이 무심하게...   3.0\n",
       "2  그룹   남성  비틀비틀 걸어가는 나의 다리 오늘도 의미없는 또 하루가 흘러가죠 사랑도 끼리끼리 하...   3.0\n",
       "3  그룹   남성  아직도 너의 소리를 듣고 아직도 너의 손길을 느껴 오늘도 난 너의 흔적 안에 살았죠...   2.0\n",
       "4  그룹   남성  Tonight 널 바래다 주는 길 내내 내가 변했다고 말하지 널 생각하지 않는다고 ...   3.0"
      ]
     },
     "execution_count": 9,
     "metadata": {},
     "output_type": "execute_result"
    }
   ],
   "source": [
    "rock.head()"
   ]
  },
  {
   "cell_type": "code",
   "execution_count": 10,
   "metadata": {
    "scrolled": true
   },
   "outputs": [
    {
     "data": {
      "text/html": [
       "<div>\n",
       "<style scoped>\n",
       "    .dataframe tbody tr th:only-of-type {\n",
       "        vertical-align: middle;\n",
       "    }\n",
       "\n",
       "    .dataframe tbody tr th {\n",
       "        vertical-align: top;\n",
       "    }\n",
       "\n",
       "    .dataframe thead th {\n",
       "        text-align: right;\n",
       "    }\n",
       "</style>\n",
       "<table border=\"1\" class=\"dataframe\">\n",
       "  <thead>\n",
       "    <tr style=\"text-align: right;\">\n",
       "      <th></th>\n",
       "      <th>타입</th>\n",
       "      <th>성별</th>\n",
       "      <th>가사</th>\n",
       "      <th>date</th>\n",
       "    </tr>\n",
       "  </thead>\n",
       "  <tbody>\n",
       "    <tr>\n",
       "      <th>0</th>\n",
       "      <td>솔로</td>\n",
       "      <td>여성</td>\n",
       "      <td>안돼요 안돼 날 두고 떠나면 안돼 그렇게 못해 난 절대 보낼 순 없어 갈테면 가라 ...</td>\n",
       "      <td>1.0</td>\n",
       "    </tr>\n",
       "    <tr>\n",
       "      <th>1</th>\n",
       "      <td>솔로</td>\n",
       "      <td>여성</td>\n",
       "      <td>날 찾아 오신 내님 어서 오세요 당신을 기다렸어요 라이 라이야 어서오세요 당신의 꽃...</td>\n",
       "      <td>1.0</td>\n",
       "    </tr>\n",
       "    <tr>\n",
       "      <th>2</th>\n",
       "      <td>솔로</td>\n",
       "      <td>여성</td>\n",
       "      <td>내 사랑 그대에게 줄까 말까 고민하다 그 사람 영영 떠나요 이것저것 재지 말고 그 ...</td>\n",
       "      <td>3.0</td>\n",
       "    </tr>\n",
       "    <tr>\n",
       "      <th>3</th>\n",
       "      <td>솔로</td>\n",
       "      <td>남성</td>\n",
       "      <td>사는게 뭐 별거있더냐 욕 안먹고 살면 되는거지 술한잔에 시름을 털고 너털웃음 한번웃...</td>\n",
       "      <td>3.0</td>\n",
       "    </tr>\n",
       "    <tr>\n",
       "      <th>4</th>\n",
       "      <td>솔로</td>\n",
       "      <td>여성</td>\n",
       "      <td>어머나 어머나 이러지마세요 여자의 마음은 갈대랍니다 안돼요 왜이래요 묻지 말아요 더...</td>\n",
       "      <td>3.0</td>\n",
       "    </tr>\n",
       "  </tbody>\n",
       "</table>\n",
       "</div>"
      ],
      "text/plain": [
       "   타입  성별                                                  가사  date\n",
       "0  솔로   여성  안돼요 안돼 날 두고 떠나면 안돼 그렇게 못해 난 절대 보낼 순 없어 갈테면 가라 ...   1.0\n",
       "1  솔로   여성  날 찾아 오신 내님 어서 오세요 당신을 기다렸어요 라이 라이야 어서오세요 당신의 꽃...   1.0\n",
       "2  솔로   여성  내 사랑 그대에게 줄까 말까 고민하다 그 사람 영영 떠나요 이것저것 재지 말고 그 ...   3.0\n",
       "3  솔로   남성  사는게 뭐 별거있더냐 욕 안먹고 살면 되는거지 술한잔에 시름을 털고 너털웃음 한번웃...   3.0\n",
       "4  솔로   여성  어머나 어머나 이러지마세요 여자의 마음은 갈대랍니다 안돼요 왜이래요 묻지 말아요 더...   3.0"
      ]
     },
     "execution_count": 10,
     "metadata": {},
     "output_type": "execute_result"
    }
   ],
   "source": [
    "tst.head()"
   ]
  },
  {
   "cell_type": "code",
   "execution_count": 11,
   "metadata": {
    "scrolled": true
   },
   "outputs": [
    {
     "data": {
      "text/html": [
       "<div>\n",
       "<style scoped>\n",
       "    .dataframe tbody tr th:only-of-type {\n",
       "        vertical-align: middle;\n",
       "    }\n",
       "\n",
       "    .dataframe tbody tr th {\n",
       "        vertical-align: top;\n",
       "    }\n",
       "\n",
       "    .dataframe thead th {\n",
       "        text-align: right;\n",
       "    }\n",
       "</style>\n",
       "<table border=\"1\" class=\"dataframe\">\n",
       "  <thead>\n",
       "    <tr style=\"text-align: right;\">\n",
       "      <th></th>\n",
       "      <th>타입</th>\n",
       "      <th>성별</th>\n",
       "      <th>가사</th>\n",
       "      <th>date</th>\n",
       "    </tr>\n",
       "  </thead>\n",
       "  <tbody>\n",
       "    <tr>\n",
       "      <th>0</th>\n",
       "      <td>솔로</td>\n",
       "      <td>남성</td>\n",
       "      <td>나도 알아 나의 문제가 무엇인지 난 못났고 별 볼 일 없지 그 애가 나를 부끄러워 ...</td>\n",
       "      <td>3.0</td>\n",
       "    </tr>\n",
       "    <tr>\n",
       "      <th>1</th>\n",
       "      <td>솔로</td>\n",
       "      <td>남성</td>\n",
       "      <td>부드럽게 무드있게 따뜻하게 꼭 안아주시오 매일 한 번씩 사용하시오 부드러운 눈 마주...</td>\n",
       "      <td>2.0</td>\n",
       "    </tr>\n",
       "    <tr>\n",
       "      <th>2</th>\n",
       "      <td>그룹</td>\n",
       "      <td>혼성</td>\n",
       "      <td>나 그대가 너무 좋은데 말하고 싶은데 용기가 안나 나도 그대가 너무 좋은데 말하고 ...</td>\n",
       "      <td>3.0</td>\n",
       "    </tr>\n",
       "    <tr>\n",
       "      <th>3</th>\n",
       "      <td>그룹</td>\n",
       "      <td>남성</td>\n",
       "      <td>오래전에 함께 듣던 노래가 발걸음을 다시 멈춰 서게 해 이 거리에서 너를 느낄 수 ...</td>\n",
       "      <td>3.0</td>\n",
       "    </tr>\n",
       "    <tr>\n",
       "      <th>4</th>\n",
       "      <td>그룹</td>\n",
       "      <td>혼성</td>\n",
       "      <td>uh 나를봐 나를봐 나를봐 날 바라봐 바라봐 바라봐 너를 본 내 마음속에 사랑이 내...</td>\n",
       "      <td>1.0</td>\n",
       "    </tr>\n",
       "  </tbody>\n",
       "</table>\n",
       "</div>"
      ],
      "text/plain": [
       "   타입  성별                                                  가사  date\n",
       "0  솔로   남성  나도 알아 나의 문제가 무엇인지 난 못났고 별 볼 일 없지 그 애가 나를 부끄러워 ...   3.0\n",
       "1  솔로   남성  부드럽게 무드있게 따뜻하게 꼭 안아주시오 매일 한 번씩 사용하시오 부드러운 눈 마주...   2.0\n",
       "2  그룹   혼성  나 그대가 너무 좋은데 말하고 싶은데 용기가 안나 나도 그대가 너무 좋은데 말하고 ...   3.0\n",
       "3  그룹   남성  오래전에 함께 듣던 노래가 발걸음을 다시 멈춰 서게 해 이 거리에서 너를 느낄 수 ...   3.0\n",
       "4  그룹   혼성  uh 나를봐 나를봐 나를봐 날 바라봐 바라봐 바라봐 너를 본 내 마음속에 사랑이 내...   1.0"
      ]
     },
     "execution_count": 11,
     "metadata": {},
     "output_type": "execute_result"
    }
   ],
   "source": [
    "bf.head()"
   ]
  },
  {
   "cell_type": "markdown",
   "metadata": {},
   "source": [
    "###### 솔로, 그룹 (0,1)"
   ]
  },
  {
   "cell_type": "code",
   "execution_count": 12,
   "metadata": {},
   "outputs": [],
   "source": [
    "bal.loc[bal[' 타입']=='솔로', 'type']=1\n",
    "bal.loc[bal[' 타입']=='그룹', 'type']=2\n",
    "bal=bal.drop([' 타입'], axis=1)\n",
    "\n",
    "dan.loc[dan[' 타입']=='솔로', 'type']=1\n",
    "dan.loc[dan[' 타입']=='그룹', 'type']=2\n",
    "dan=dan.drop([' 타입'], axis=1)\n",
    "\n",
    "hip.loc[hip[' 타입']=='솔로', 'type']=1\n",
    "hip.loc[hip[' 타입']=='그룹', 'type']=2\n",
    "hip=hip.drop([' 타입'], axis=1)\n",
    "\n",
    "rb.loc[rb[' 타입']=='솔로', 'type']=1\n",
    "rb.loc[rb[' 타입']=='그룹', 'type']=2\n",
    "rb=rb.drop([' 타입'], axis=1)\n",
    "\n",
    "indi.loc[indi[' 타입']=='솔로', 'type']=1\n",
    "indi.loc[indi[' 타입']=='그룹', 'type']=2\n",
    "indi=indi.drop([' 타입'], axis=1)\n",
    "\n",
    "rock.loc[rock[' 타입']=='솔로', 'type']=1\n",
    "rock.loc[rock[' 타입']=='그룹', 'type']=2\n",
    "rock=rock.drop([' 타입'], axis=1)\n",
    "\n",
    "tst.loc[tst[' 타입']=='솔로', 'type']=1\n",
    "tst.loc[tst[' 타입']=='그룹', 'type']=2\n",
    "tst=tst.drop([' 타입'], axis=1)\n",
    "\n",
    "bf.loc[bf[' 타입']=='솔로', 'type']=1\n",
    "bf.loc[bf[' 타입']=='그룹', 'type']=2\n",
    "bf=bf.drop([' 타입'], axis=1)"
   ]
  },
  {
   "cell_type": "markdown",
   "metadata": {},
   "source": [
    "###### 남성, 여성, 혼성 (1, 2, 3)"
   ]
  },
  {
   "cell_type": "code",
   "execution_count": 13,
   "metadata": {},
   "outputs": [],
   "source": [
    "bal.loc[bal['성별 ']=='남성', 'sex']=1\n",
    "bal.loc[bal['성별 ']=='여성', 'sex']=2\n",
    "bal.loc[bal['성별 ']=='혼성', 'sex']=3\n",
    "bal=bal.drop(['성별 '], axis=1)\n",
    "\n",
    "dan.loc[dan[' 성별 ']=='남성', 'sex']=1\n",
    "dan.loc[dan[' 성별 ']=='여성', 'sex']=2\n",
    "dan.loc[dan[' 성별 ']=='혼성', 'sex']=3\n",
    "dan=dan.drop([' 성별 '], axis=1)\n",
    "\n",
    "hip.loc[hip[' 성별 ']=='남성', 'sex']=1\n",
    "hip.loc[hip[' 성별 ']=='여성', 'sex']=2\n",
    "hip.loc[hip[' 성별 ']=='혼성', 'sex']=3\n",
    "hip=hip.drop([' 성별 '], axis=1)\n",
    "\n",
    "rb.loc[rb[' 성별 ']=='남성', 'sex']=1\n",
    "rb.loc[rb[' 성별 ']=='여성', 'sex']=2\n",
    "rb.loc[rb[' 성별 ']=='혼성', 'sex']=3\n",
    "rb=rb.drop([' 성별 '], axis=1)\n",
    "\n",
    "indi.loc[indi[' 성별 ']=='남성', 'sex']=1\n",
    "indi.loc[indi[' 성별 ']=='여성', 'sex']=2\n",
    "indi.loc[indi[' 성별 ']=='혼성', 'sex']=3\n",
    "indi=indi.drop([' 성별 '], axis=1)\n",
    "\n",
    "rock.loc[rock[' 성별 ']=='남성', 'sex']=1\n",
    "rock.loc[rock[' 성별 ']=='여성', 'sex']=2\n",
    "rock.loc[rock[' 성별 ']=='혼성', 'sex']=3\n",
    "rock=rock.drop([' 성별 '], axis=1)\n",
    "\n",
    "tst.loc[tst[' 성별 ']=='남성', 'sex']=1\n",
    "tst.loc[tst[' 성별 ']=='여성', 'sex']=2\n",
    "tst.loc[tst[' 성별 ']=='혼성', 'sex']=3\n",
    "tst=tst.drop([' 성별 '], axis=1)\n",
    "\n",
    "bf.loc[bf[' 성별 ']=='남성', 'sex']=1\n",
    "bf.loc[bf[' 성별 ']=='여성', 'sex']=2\n",
    "bf.loc[bf[' 성별 ']=='혼성', 'sex']=3\n",
    "bf=bf.drop([' 성별 '], axis=1)"
   ]
  },
  {
   "cell_type": "markdown",
   "metadata": {},
   "source": [
    "###### 발라드, 댄스, 힙합, 알앤비, 인디, 락, 트로트, 블루스 (1,2,3,4,5,6,7,8)"
   ]
  },
  {
   "cell_type": "code",
   "execution_count": 14,
   "metadata": {},
   "outputs": [],
   "source": [
    "bal['genre']=1\n",
    "dan['genre']=2\n",
    "hip['genre']=3\n",
    "rb['genre']=4\n",
    "indi['genre']=5\n",
    "rock['genre']=6\n",
    "tst['genre']=7\n",
    "bf['genre']=8"
   ]
  },
  {
   "cell_type": "markdown",
   "metadata": {},
   "source": [
    "###### 가사 데이터 처리"
   ]
  },
  {
   "cell_type": "code",
   "execution_count": 15,
   "metadata": {},
   "outputs": [],
   "source": [
    "import csv\n",
    "import random\n",
    "%matplotlib inline\n",
    "import matplotlib.pyplot as plt\n",
    "import numpy as np"
   ]
  },
  {
   "cell_type": "code",
   "execution_count": 67,
   "metadata": {},
   "outputs": [],
   "source": [
    "train = pd.concat([bal, dan, hip, rock, tst],join='inner')\n",
    "train.to_csv('test.csv',encoding='CP949')"
   ]
  },
  {
   "cell_type": "code",
   "execution_count": 68,
   "metadata": {},
   "outputs": [
    {
     "data": {
      "text/html": [
       "<div>\n",
       "<style scoped>\n",
       "    .dataframe tbody tr th:only-of-type {\n",
       "        vertical-align: middle;\n",
       "    }\n",
       "\n",
       "    .dataframe tbody tr th {\n",
       "        vertical-align: top;\n",
       "    }\n",
       "\n",
       "    .dataframe thead th {\n",
       "        text-align: right;\n",
       "    }\n",
       "</style>\n",
       "<table border=\"1\" class=\"dataframe\">\n",
       "  <thead>\n",
       "    <tr style=\"text-align: right;\">\n",
       "      <th></th>\n",
       "      <th>가사</th>\n",
       "      <th>date</th>\n",
       "      <th>type</th>\n",
       "      <th>sex</th>\n",
       "      <th>genre</th>\n",
       "    </tr>\n",
       "  </thead>\n",
       "  <tbody>\n",
       "    <tr>\n",
       "      <th>0</th>\n",
       "      <td>길었던 겨우내 줄곧 품이 좀 남는 밤색 코트 그 속에 나를 쏙 감추고 걸음을 재촉해...</td>\n",
       "      <td>1.0</td>\n",
       "      <td>2.0</td>\n",
       "      <td>1.0</td>\n",
       "      <td>1</td>\n",
       "    </tr>\n",
       "    <tr>\n",
       "      <th>1</th>\n",
       "      <td>월요일엔 아마 바쁘지 않을까 화요일도 성급해 보이지 안 그래 수요일은 뭔가 어정쩡한...</td>\n",
       "      <td>4.0</td>\n",
       "      <td>1.0</td>\n",
       "      <td>2.0</td>\n",
       "      <td>1</td>\n",
       "    </tr>\n",
       "    <tr>\n",
       "      <th>2</th>\n",
       "      <td>너의 그 한 마디 말도 그 웃음도 나에겐 커다란 의미 너의 그 작은 눈빛도 쓸쓸한 ...</td>\n",
       "      <td>1.0</td>\n",
       "      <td>1.0</td>\n",
       "      <td>2.0</td>\n",
       "      <td>1</td>\n",
       "    </tr>\n",
       "    <tr>\n",
       "      <th>3</th>\n",
       "      <td>어느새 길어진 그림자를 따라서 땅거미 진 어둠 속을 그대와 걷고 있네요 손을 마주잡...</td>\n",
       "      <td>3.0</td>\n",
       "      <td>1.0</td>\n",
       "      <td>1.0</td>\n",
       "      <td>1</td>\n",
       "    </tr>\n",
       "    <tr>\n",
       "      <th>4</th>\n",
       "      <td>니 생각에 꽤 즐겁고 니 생각에 퍽 외로워 이상한 일이야 누굴 좋아한단 건 아무 일...</td>\n",
       "      <td>3.0</td>\n",
       "      <td>2.0</td>\n",
       "      <td>3.0</td>\n",
       "      <td>1</td>\n",
       "    </tr>\n",
       "    <tr>\n",
       "      <th>...</th>\n",
       "      <td>...</td>\n",
       "      <td>...</td>\n",
       "      <td>...</td>\n",
       "      <td>...</td>\n",
       "      <td>...</td>\n",
       "    </tr>\n",
       "    <tr>\n",
       "      <th>1207</th>\n",
       "      <td>사랑해서 미안해 사랑해서 미안해 나는 그대를 사랑하고 있어요 사랑해서 미안해 사랑해...</td>\n",
       "      <td>3.0</td>\n",
       "      <td>1.0</td>\n",
       "      <td>1.0</td>\n",
       "      <td>7</td>\n",
       "    </tr>\n",
       "    <tr>\n",
       "      <th>1208</th>\n",
       "      <td>아픈맘 달래지 못해 긴한숨만 허공에 묻고 그리워 헤매이던 어둔 밤거리가 낯설지 않아...</td>\n",
       "      <td>3.0</td>\n",
       "      <td>1.0</td>\n",
       "      <td>1.0</td>\n",
       "      <td>7</td>\n",
       "    </tr>\n",
       "    <tr>\n",
       "      <th>1209</th>\n",
       "      <td>나나나 나나나 나나나나 나나나 나나나 나나나나 아기 때는 젖주면 좋아하고 아하 아이...</td>\n",
       "      <td>4.0</td>\n",
       "      <td>1.0</td>\n",
       "      <td>2.0</td>\n",
       "      <td>7</td>\n",
       "    </tr>\n",
       "    <tr>\n",
       "      <th>1210</th>\n",
       "      <td>사랑했던 그 사람을 말없이 돌려보내고 원점으로 돌아서는 이 마음 그대는 몰라 수많은...</td>\n",
       "      <td>3.0</td>\n",
       "      <td>1.0</td>\n",
       "      <td>1.0</td>\n",
       "      <td>7</td>\n",
       "    </tr>\n",
       "    <tr>\n",
       "      <th>1211</th>\n",
       "      <td>천생연분 내 사랑 하늘이 맺어준 사람 천년만년 내 사랑 영원히 지켜주세요 꽃비가 내...</td>\n",
       "      <td>2.0</td>\n",
       "      <td>2.0</td>\n",
       "      <td>2.0</td>\n",
       "      <td>7</td>\n",
       "    </tr>\n",
       "  </tbody>\n",
       "</table>\n",
       "<p>1212 rows × 5 columns</p>\n",
       "</div>"
      ],
      "text/plain": [
       "                                                     가사  date  type  sex  \\\n",
       "0     길었던 겨우내 줄곧 품이 좀 남는 밤색 코트 그 속에 나를 쏙 감추고 걸음을 재촉해...   1.0   2.0  1.0   \n",
       "1     월요일엔 아마 바쁘지 않을까 화요일도 성급해 보이지 안 그래 수요일은 뭔가 어정쩡한...   4.0   1.0  2.0   \n",
       "2     너의 그 한 마디 말도 그 웃음도 나에겐 커다란 의미 너의 그 작은 눈빛도 쓸쓸한 ...   1.0   1.0  2.0   \n",
       "3     어느새 길어진 그림자를 따라서 땅거미 진 어둠 속을 그대와 걷고 있네요 손을 마주잡...   3.0   1.0  1.0   \n",
       "4     니 생각에 꽤 즐겁고 니 생각에 퍽 외로워 이상한 일이야 누굴 좋아한단 건 아무 일...   3.0   2.0  3.0   \n",
       "...                                                 ...   ...   ...  ...   \n",
       "1207  사랑해서 미안해 사랑해서 미안해 나는 그대를 사랑하고 있어요 사랑해서 미안해 사랑해...   3.0   1.0  1.0   \n",
       "1208  아픈맘 달래지 못해 긴한숨만 허공에 묻고 그리워 헤매이던 어둔 밤거리가 낯설지 않아...   3.0   1.0  1.0   \n",
       "1209  나나나 나나나 나나나나 나나나 나나나 나나나나 아기 때는 젖주면 좋아하고 아하 아이...   4.0   1.0  2.0   \n",
       "1210  사랑했던 그 사람을 말없이 돌려보내고 원점으로 돌아서는 이 마음 그대는 몰라 수많은...   3.0   1.0  1.0   \n",
       "1211  천생연분 내 사랑 하늘이 맺어준 사람 천년만년 내 사랑 영원히 지켜주세요 꽃비가 내...   2.0   2.0  2.0   \n",
       "\n",
       "      genre  \n",
       "0         1  \n",
       "1         1  \n",
       "2         1  \n",
       "3         1  \n",
       "4         1  \n",
       "...     ...  \n",
       "1207      7  \n",
       "1208      7  \n",
       "1209      7  \n",
       "1210      7  \n",
       "1211      7  \n",
       "\n",
       "[1212 rows x 5 columns]"
      ]
     },
     "execution_count": 68,
     "metadata": {},
     "output_type": "execute_result"
    }
   ],
   "source": [
    "test = pd.read_csv('test.csv',header=0, encoding='CP949',error_bad_lines=False)\n",
    "test = test.drop('Unnamed: 0',axis=1)\n",
    "test"
   ]
  },
  {
   "cell_type": "code",
   "execution_count": 69,
   "metadata": {},
   "outputs": [],
   "source": [
    "X_data = test[['가사','date','type','sex']]\n",
    "Y_data = train['genre']"
   ]
  },
  {
   "cell_type": "code",
   "execution_count": 70,
   "metadata": {},
   "outputs": [
    {
     "data": {
      "image/png": "[encoded data removed]",
      "text/plain": [
       "<Figure size 432x288 with 1 Axes>"
      ]
     },
     "metadata": {
      "needs_background": "light"
     },
     "output_type": "display_data"
    }
   ],
   "source": [
    "test['genre'].value_counts().plot(kind='bar');"
   ]
  },
  {
   "cell_type": "code",
   "execution_count": 71,
   "metadata": {},
   "outputs": [],
   "source": [
    "train_data = test.drop(['genre'],axis=1)\n",
    "target_data = test[['genre']]\n",
    "train_data=train_data.fillna(0)"
   ]
  },
  {
   "cell_type": "code",
   "execution_count": 72,
   "metadata": {},
   "outputs": [],
   "source": [
    "matrix=[]\n",
    "for lyrics in train_data['가사']:\n",
    "    lyric_X = []\n",
    "    lyric_X = okt.nouns(lyrics)\n",
    "    matrix.append(lyric_X)"
   ]
  },
  {
   "cell_type": "code",
   "execution_count": 73,
   "metadata": {
    "scrolled": true
   },
   "outputs": [
    {
     "name": "stdout",
     "output_type": "stream",
     "text": [
      "517\n",
      "103.06518151815182\n"
     ]
    }
   ],
   "source": [
    "from tensorflow.keras.preprocessing.text import Tokenizer\n",
    "from tensorflow.keras.preprocessing.sequence import pad_sequences\n",
    "max_words = 35000\n",
    "tokenizer = Tokenizer(num_words=max_words)\n",
    "tokenizer.fit_on_texts(matrix)\n",
    "sequences = tokenizer.texts_to_sequences(matrix)\n",
    "train_data['가사'] =  sequences\n",
    "print(max(len(l) for l in train_data['가사']))\n",
    "print(sum(map(len,train_data['가사']))/len(train_data['가사']))"
   ]
  },
  {
   "cell_type": "code",
   "execution_count": 74,
   "metadata": {
    "scrolled": false
   },
   "outputs": [],
   "source": [
    "max_len = 517\n",
    "data = pad_sequences(sequences, maxlen=max_len)\n",
    "sequences=data"
   ]
  },
  {
   "cell_type": "code",
   "execution_count": 75,
   "metadata": {},
   "outputs": [
    {
     "data": {
      "text/plain": [
       "(1212, 517)"
      ]
     },
     "execution_count": 75,
     "metadata": {},
     "output_type": "execute_result"
    }
   ],
   "source": [
    "data.shape"
   ]
  },
  {
   "cell_type": "code",
   "execution_count": 76,
   "metadata": {},
   "outputs": [],
   "source": [
    "train_data = np.array(train_data)"
   ]
  },
  {
   "cell_type": "code",
   "execution_count": 77,
   "metadata": {},
   "outputs": [],
   "source": [
    "train_data=np.delete(train_data, 0, axis=1)"
   ]
  },
  {
   "cell_type": "code",
   "execution_count": 78,
   "metadata": {},
   "outputs": [
    {
     "data": {
      "text/plain": [
       "array([[1.0, 2.0, 1.0, ..., 258, 3, 627],\n",
       "       [4.0, 1.0, 2.0, ..., 399, 18, 399],\n",
       "       [1.0, 1.0, 2.0, ..., 409, 4, 138],\n",
       "       ...,\n",
       "       [4.0, 1.0, 2.0, ..., 77, 77, 77],\n",
       "       [3.0, 1.0, 1.0, ..., 4, 45, 86],\n",
       "       [2.0, 2.0, 2.0, ..., 9, 5, 1393]], dtype=object)"
      ]
     },
     "execution_count": 78,
     "metadata": {},
     "output_type": "execute_result"
    }
   ],
   "source": [
    "train_data=np.append(train_data, data, axis=1)\n",
    "train_data"
   ]
  },
  {
   "cell_type": "code",
   "execution_count": 79,
   "metadata": {},
   "outputs": [],
   "source": [
    "x_train,x_test,y_train,y_test = train_test_split(train_data,target_data,test_size=0.3)\n",
    "x_test[0:5]\n",
    "y_train=y_train.fillna(0)"
   ]
  },
  {
   "cell_type": "code",
   "execution_count": 80,
   "metadata": {},
   "outputs": [
    {
     "data": {
      "text/plain": [
       "array([[4.0, 2.0, 1.0, ..., 446, 2, 446],\n",
       "       [1.0, 1.0, 2.0, ..., 309, 3, 4],\n",
       "       [1.0, 2.0, 1.0, ..., 72, 44, 2],\n",
       "       ...,\n",
       "       [4.0, 1.0, 1.0, ..., 300, 7, 8],\n",
       "       [1.0, 2.0, 3.0, ..., 380, 1518, 200],\n",
       "       [1.0, 2.0, 1.0, ..., 304, 60, 92]], dtype=object)"
      ]
     },
     "execution_count": 80,
     "metadata": {},
     "output_type": "execute_result"
    }
   ],
   "source": [
    "y_test = np.array(y_test)\n",
    "y_train = np.array(y_train)\n",
    "x_train = np.array(list(x for x in x_train))\n",
    "x_test = np.array(x_test)\n",
    "x_train"
   ]
  },
  {
   "cell_type": "code",
   "execution_count": 84,
   "metadata": {
    "scrolled": true
   },
   "outputs": [
    {
     "name": "stdout",
     "output_type": "stream",
     "text": [
      "training set accuracy: 0.9952830188679245\n",
      "test set accuracy: 0.47527472527472525\n"
     ]
    },
    {
     "data": {
      "text/plain": [
       "array([1, 2, 7, 6, 2, 6, 7, 7, 2, 3, 6, 3, 3, 1, 1, 3, 6, 6, 6, 1, 6, 7,\n",
       "       7, 1, 2, 2, 3, 2, 3, 2, 6, 3, 1, 6, 1, 3, 2, 6, 2, 6, 1, 3, 1, 6,\n",
       "       2, 7, 2, 6, 6, 2, 7, 7, 1, 2, 1, 3, 6, 3, 3, 3, 2, 6, 3, 2, 7, 2,\n",
       "       6, 3, 1, 1, 2, 6, 3, 3, 7, 3, 6, 2, 6, 3, 6, 6, 6, 1, 7, 3, 6, 2,\n",
       "       6, 3, 6, 1, 6, 1, 1, 1, 6, 7, 1, 6, 6, 2, 1, 6, 6, 3, 2, 2, 1, 3,\n",
       "       2, 1, 3, 3, 2, 2, 1, 7, 3, 7, 2, 2, 1, 6, 1, 6, 6, 2, 6, 7, 1, 6,\n",
       "       6, 2, 2, 6, 3, 6, 6, 6, 6, 3, 3, 3, 7, 7, 3, 3, 3, 2, 3, 6, 1, 6,\n",
       "       6, 7, 6, 3, 2, 3, 3, 6, 6, 1, 2, 1, 3, 1, 7, 1, 3, 7, 1, 1, 2, 1,\n",
       "       1, 6, 6, 1, 6, 2, 3, 3, 1, 6, 3, 6, 6, 6, 7, 1, 7, 2, 6, 1, 3, 3,\n",
       "       7, 6, 7, 1, 3, 3, 2, 6, 6, 7, 6, 1, 1, 1, 1, 6, 6, 2, 3, 2, 7, 2,\n",
       "       7, 3, 2, 7, 3, 7, 6, 6, 3, 1, 2, 3, 6, 2, 2, 1, 6, 3, 6, 6, 2, 7,\n",
       "       6, 7, 2, 2, 3, 3, 6, 2, 6, 2, 3, 2, 6, 1, 3, 2, 6, 2, 2, 6, 1, 7,\n",
       "       1, 6, 2, 6, 2, 7, 2, 2, 3, 1, 1, 7, 2, 6, 2, 6, 7, 3, 2, 6, 1, 1,\n",
       "       6, 6, 2, 3, 6, 2, 2, 6, 2, 7, 6, 3, 1, 3, 3, 6, 1, 6, 2, 3, 7, 3,\n",
       "       1, 6, 3, 3, 7, 6, 7, 1, 6, 6, 2, 6, 2, 1, 2, 2, 6, 1, 1, 2, 2, 1,\n",
       "       2, 1, 1, 1, 1, 1, 6, 1, 7, 3, 2, 7, 2, 6, 7, 6, 6, 3, 6, 2, 2, 6,\n",
       "       6, 3, 1, 6, 2, 6, 3, 7, 3, 6, 6, 6], dtype=int64)"
      ]
     },
     "execution_count": 84,
     "metadata": {},
     "output_type": "execute_result"
    }
   ],
   "source": [
    "from sklearn.tree import DecisionTreeClassifier\n",
    "tree = DecisionTreeClassifier()\n",
    "tree.fit(x_train,y_train)\n",
    "\n",
    "print('training set accuracy:',tree.score(x_train, y_train))\n",
    "print('test set accuracy:',tree.score(x_test,y_test))\n",
    "\n",
    "prediction_by_tree = tree.predict(x_test)\n",
    "prediction_by_tree"
   ]
  },
  {
   "cell_type": "code",
   "execution_count": 85,
   "metadata": {},
   "outputs": [
    {
     "name": "stdout",
     "output_type": "stream",
     "text": [
      "training set accuracy: 0.9846698113207547\n",
      "test set accuracy: 0.45879120879120877\n"
     ]
    },
    {
     "name": "stderr",
     "output_type": "stream",
     "text": [
      "C:\\anaconda\\lib\\site-packages\\ipykernel_launcher.py:3: DataConversionWarning: A column-vector y was passed when a 1d array was expected. Please change the shape of y to (n_samples,), for example using ravel().\n",
      "  This is separate from the ipykernel package so we can avoid doing imports until\n"
     ]
    },
    {
     "data": {
      "text/plain": [
       "array([2, 2, 6, 2, 6, 1, 1, 7, 2, 3, 2, 3, 3, 3, 1, 3, 7, 1, 2, 1, 1, 7,\n",
       "       7, 1, 1, 3, 3, 1, 3, 2, 1, 1, 3, 2, 3, 2, 6, 6, 2, 2, 6, 3, 7, 2,\n",
       "       1, 7, 6, 1, 6, 2, 7, 7, 3, 3, 1, 1, 2, 6, 3, 3, 2, 1, 3, 2, 7, 6,\n",
       "       2, 3, 1, 1, 6, 6, 1, 3, 7, 3, 1, 3, 6, 3, 2, 6, 1, 1, 7, 2, 2, 7,\n",
       "       6, 3, 6, 6, 6, 6, 2, 1, 7, 3, 6, 1, 6, 2, 2, 6, 1, 3, 6, 1, 7, 3,\n",
       "       2, 1, 3, 3, 1, 2, 1, 7, 1, 7, 7, 3, 6, 1, 1, 2, 1, 6, 1, 7, 1, 6,\n",
       "       6, 6, 6, 6, 3, 7, 1, 2, 6, 3, 3, 3, 7, 7, 3, 3, 3, 2, 3, 2, 1, 7,\n",
       "       1, 1, 6, 3, 7, 1, 3, 6, 7, 3, 7, 1, 2, 1, 6, 2, 3, 6, 1, 1, 2, 6,\n",
       "       2, 2, 1, 1, 1, 1, 3, 7, 1, 6, 6, 6, 7, 1, 1, 1, 7, 2, 1, 1, 3, 3,\n",
       "       7, 1, 7, 7, 3, 3, 7, 6, 2, 7, 3, 1, 1, 1, 2, 1, 1, 1, 3, 2, 7, 2,\n",
       "       7, 2, 7, 1, 2, 1, 6, 7, 3, 1, 1, 3, 6, 3, 6, 6, 7, 3, 7, 7, 1, 6,\n",
       "       6, 6, 1, 3, 3, 2, 7, 1, 6, 1, 2, 2, 2, 1, 2, 1, 1, 1, 2, 1, 6, 6,\n",
       "       1, 1, 3, 1, 7, 7, 2, 2, 2, 1, 7, 6, 1, 1, 3, 1, 7, 3, 2, 1, 2, 2,\n",
       "       1, 1, 1, 3, 3, 6, 2, 2, 1, 7, 6, 3, 2, 2, 3, 6, 2, 1, 1, 3, 6, 3,\n",
       "       6, 6, 2, 2, 1, 2, 7, 1, 6, 7, 2, 6, 7, 1, 6, 2, 6, 1, 7, 1, 2, 1,\n",
       "       1, 3, 2, 2, 1, 3, 6, 1, 1, 1, 7, 7, 7, 1, 1, 6, 6, 3, 1, 1, 2, 7,\n",
       "       1, 2, 1, 6, 6, 3, 3, 7, 3, 6, 3, 6], dtype=int64)"
      ]
     },
     "execution_count": 85,
     "metadata": {},
     "output_type": "execute_result"
    }
   ],
   "source": [
    "from sklearn.ensemble import RandomForestClassifier\n",
    "forest = RandomForestClassifier(n_estimators=10)\n",
    "forest.fit(x_train,y_train)\n",
    "\n",
    "print('training set accuracy:',forest.score(x_train,y_train))\n",
    "print('test set accuracy:',forest.score(x_test,y_test))\n",
    "\n",
    "prediction_by_forest = forest.predict(x_test)\n",
    "prediction_by_forest"
   ]
  },
  {
   "cell_type": "code",
   "execution_count": 88,
   "metadata": {},
   "outputs": [
    {
     "name": "stderr",
     "output_type": "stream",
     "text": [
      "C:\\anaconda\\lib\\site-packages\\sklearn\\utils\\validation.py:760: DataConversionWarning: A column-vector y was passed when a 1d array was expected. Please change the shape of y to (n_samples, ), for example using ravel().\n",
      "  y = column_or_1d(y, warn=True)\n"
     ]
    },
    {
     "name": "stdout",
     "output_type": "stream",
     "text": [
      "training set accuracy: 0.6851415094339622\n",
      "test set accuracy: 0.4642857142857143\n"
     ]
    }
   ],
   "source": [
    "from sklearn.svm import SVC\n",
    "model=SVC()\n",
    "model.fit(x_train,y_train)\n",
    "\n",
    "print('training set accuracy:',model.score(x_train,y_train))\n",
    "print('test set accuracy:',model.score(x_test,y_test))"
   ]
  },
  {
   "cell_type": "code",
   "execution_count": null,
   "metadata": {},
   "outputs": [],
   "source": []
  },
  {
   "cell_type": "code",
   "execution_count": null,
   "metadata": {},
   "outputs": [],
   "source": []
  }
 ],
 "metadata": {
  "kernelspec": {
   "display_name": "Python 3",
   "language": "python",
   "name": "python3"
  },
  "language_info": {
   "codemirror_mode": {
    "name": "ipython",
    "version": 3
   },
   "file_extension": ".py",
   "mimetype": "text/x-python",
   "name": "python",
   "nbconvert_exporter": "python",
   "pygments_lexer": "ipython3",
   "version": "3.7.6"
  }
 },
 "nbformat": 4,
 "nbformat_minor": 2
}
