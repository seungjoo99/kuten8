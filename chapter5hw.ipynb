{
  "nbformat": 4,
  "nbformat_minor": 0,
  "metadata": {
    "colab": {
      "name": "Untitled1.ipynb",
      "provenance": [],
      "authorship_tag": "ABX9TyP7i+YWQPeCdWJ459jtiEhM",
      "include_colab_link": true
    },
    "kernelspec": {
      "name": "python3",
      "display_name": "Python 3"
    }
  },
  "cells": [
    {
      "cell_type": "markdown",
      "metadata": {
        "id": "view-in-github",
        "colab_type": "text"
      },
      "source": [
        "<a href=\"https://colab.research.google.com/github/seungjoo99/kuten8/blob/master/chapter5hw.ipynb\" target=\"_parent\"><img src=\"https://colab.research.google.com/assets/colab-badge.svg\" alt=\"Open In Colab\"/></a>"
      ]
    },
    {
      "cell_type": "code",
      "metadata": {
        "id": "TAWnugkvfVF8",
        "colab_type": "code",
        "colab": {}
      },
      "source": [
        "import torch\n",
        "import torch.nn as nn\n",
        "import torch.optim as optim\n",
        "import torch.nn.init as init\n",
        "\n",
        "import torchvision.datasets as dset\n",
        "import torchvision.transforms as transforms\n",
        "\n",
        "from torch.utils.data import DataLoader\n",
        "\n",
        "import matplotlib.pyplot as plt"
      ],
      "execution_count": 0,
      "outputs": []
    },
    {
      "cell_type": "code",
      "metadata": {
        "id": "9kpZ1iKBfXss",
        "colab_type": "code",
        "colab": {}
      },
      "source": [
        "batch_size=256\n",
        "learning_rate=0.002\n",
        "num_epoch=10"
      ],
      "execution_count": 0,
      "outputs": []
    },
    {
      "cell_type": "code",
      "metadata": {
        "id": "uAVEQu32fY80",
        "colab_type": "code",
        "colab": {
          "base_uri": "https://localhost:8080/",
          "height": 112
        },
        "outputId": "73e5474e-7ae3-44b7-c8bd-1d4ef3f1756d"
      },
      "source": [
        "CF_train=dset.CIFAR10('./data', train=True, transform=transforms.ToTensor(), target_transform=None, download=True)\n",
        "CF_test=dset.CIFAR10('./data', train=False, transform=transforms.ToTensor(), target_transform=None, download=True)"
      ],
      "execution_count": 3,
      "outputs": [
        {
          "output_type": "stream",
          "text": [
            "\r0it [00:00, ?it/s]"
          ],
          "name": "stderr"
        },
        {
          "output_type": "stream",
          "text": [
            "Downloading https://www.cs.toronto.edu/~kriz/cifar-10-python.tar.gz to ./data/cifar-10-python.tar.gz\n"
          ],
          "name": "stdout"
        },
        {
          "output_type": "stream",
          "text": [
            "170500096it [00:06, 26554728.99it/s]                               \n"
          ],
          "name": "stderr"
        },
        {
          "output_type": "stream",
          "text": [
            "Extracting ./data/cifar-10-python.tar.gz to ./data\n",
            "Files already downloaded and verified\n"
          ],
          "name": "stdout"
        }
      ]
    },
    {
      "cell_type": "code",
      "metadata": {
        "id": "J1wRNXPff_FP",
        "colab_type": "code",
        "colab": {}
      },
      "source": [
        "train_loader=torch.utils.data.DataLoader(CF_train, batch_size=batch_size, shuffle=True, num_workers=2, drop_last=True)\n",
        "test_loader=torch.utils.data.DataLoader(CF_test, batch_size=batch_size, shuffle=False, num_workers=2, drop_last=True)"
      ],
      "execution_count": 0,
      "outputs": []
    },
    {
      "cell_type": "code",
      "metadata": {
        "id": "HXDP3mCDfazL",
        "colab_type": "code",
        "colab": {}
      },
      "source": [
        "class CNN(nn.Module):\n",
        "  def __init__(self):\n",
        "    super(CNN,self).__init__()\n",
        "    self.layer=nn.Sequential(nn.Conv2d(3,16,5), nn.ReLU(),nn.Conv2d(16,32,5),nn.ReLU(),\n",
        "    nn.MaxPool2d(2,2), nn.Conv2d(32,64,5), nn.ReLU(), nn.MaxPool2d(2,2))\n",
        "    self.fc_layer=nn.Sequential(nn.Linear(1024,100),nn.ReLU(),nn.Linear(100, 10))\n",
        "  def forward(self, x):\n",
        "    out=self.layer(x)\n",
        "    out=out.view(batch_size, -1)\n",
        "    out=self.fc_layer(out)\n",
        "    return out"
      ],
      "execution_count": 0,
      "outputs": []
    },
    {
      "cell_type": "code",
      "metadata": {
        "id": "2WUQ-fuWfeIN",
        "colab_type": "code",
        "colab": {}
      },
      "source": [
        ""
      ],
      "execution_count": 0,
      "outputs": []
    },
    {
      "cell_type": "code",
      "metadata": {
        "id": "wd4PUt0Uff8G",
        "colab_type": "code",
        "colab": {}
      },
      "source": [
        "model=CNN().to(device)\n",
        "loss_func=nn.CrossEntropyLoss()\n",
        "optimizer=torch.optim.Adam(model.parameters(), lr=learning_rate)"
      ],
      "execution_count": 0,
      "outputs": []
    },
    {
      "cell_type": "code",
      "metadata": {
        "id": "WfAvYJmqfym0",
        "colab_type": "code",
        "colab": {
          "base_uri": "https://localhost:8080/",
          "height": 204
        },
        "outputId": "58b73a14-99b1-4125-ce70-c7ef6f388d14"
      },
      "source": [
        "loss_arr=[]\n",
        "for i in range(num_epoch):\n",
        "  for j,[image,label] in enumerate(train_loader):\n",
        "    x=image.to(device)\n",
        "    y_=label.to(device)\n",
        "\n",
        "    optimizer.zero_grad()\n",
        "    output=model.forward(x)\n",
        "    loss=loss_func(output, y_)\n",
        "    loss.backward()\n",
        "    optimizer.step()\n",
        "\n",
        "    if j%1000==0:\n",
        "      print(loss)\n",
        "      loss_arr.append(loss.cpu().detach().numpy())"
      ],
      "execution_count": 42,
      "outputs": [
        {
          "output_type": "stream",
          "text": [
            "tensor(2.3013, grad_fn=<NllLossBackward>)\n",
            "tensor(1.4805, grad_fn=<NllLossBackward>)\n",
            "tensor(1.3081, grad_fn=<NllLossBackward>)\n",
            "tensor(1.2313, grad_fn=<NllLossBackward>)\n",
            "tensor(1.0480, grad_fn=<NllLossBackward>)\n",
            "tensor(1.0180, grad_fn=<NllLossBackward>)\n",
            "tensor(0.9719, grad_fn=<NllLossBackward>)\n",
            "tensor(0.9072, grad_fn=<NllLossBackward>)\n",
            "tensor(0.8469, grad_fn=<NllLossBackward>)\n",
            "tensor(0.7736, grad_fn=<NllLossBackward>)\n"
          ],
          "name": "stdout"
        }
      ]
    },
    {
      "cell_type": "code",
      "metadata": {
        "id": "KKQLF_zWgff3",
        "colab_type": "code",
        "colab": {
          "base_uri": "https://localhost:8080/",
          "height": 36
        },
        "outputId": "a55896dc-ab8e-47be-e5e0-8486475274bc"
      },
      "source": [
        "1"
      ],
      "execution_count": 22,
      "outputs": [
        {
          "output_type": "execute_result",
          "data": {
            "text/plain": [
              "1"
            ]
          },
          "metadata": {
            "tags": []
          },
          "execution_count": 22
        }
      ]
    },
    {
      "cell_type": "code",
      "metadata": {
        "id": "TRjJnKNghKCU",
        "colab_type": "code",
        "colab": {}
      },
      "source": [
        ""
      ],
      "execution_count": 0,
      "outputs": []
    }
  ]
}