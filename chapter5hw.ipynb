{
 "cells": [
  {
   "cell_type": "code",
   "execution_count": 1,
   "metadata": {},
   "outputs": [],
   "source": [
    "import torch\n",
    "import torch.nn as nn\n",
    "import torch.optim as optim\n",
    "import torch.nn.init as init\n",
    "\n",
    "import torchvision.datasets as dset\n",
    "import torchvision.transforms as transforms\n",
    "\n",
    "from torch.utils.data import DataLoader\n",
    "\n",
    "import matplotlib.pyplot as plt"
   ]
  },
  {
   "cell_type": "code",
   "execution_count": 2,
   "metadata": {},
   "outputs": [],
   "source": [
    "CF_train=dset.CIFAR10('./data', train=True, transform=transforms.ToTensor(), target_transform=None, download=False)\n",
    "CF_test=dset.CIFAR10('./data', train=False, transform=transforms.ToTensor(), target_transform=None, download=False)"
   ]
  },
  {
   "cell_type": "code",
   "execution_count": 3,
   "metadata": {},
   "outputs": [],
   "source": [
    "batch_size=256\n",
    "learning_rate=0.002\n",
    "num_epoch=10"
   ]
  },
  {
   "cell_type": "code",
   "execution_count": 4,
   "metadata": {},
   "outputs": [],
   "source": [
    "train_loader=torch.utils.data.DataLoader(CF_train, batch_size=batch_size, shuffle=True, num_workers=2, drop_last=True)\n",
    "test_loader=torch.utils.data.DataLoader(CF_test, batch_size=batch_size, shuffle=False, num_workers=2, drop_last=True)"
   ]
  },
  {
   "cell_type": "code",
   "execution_count": 5,
   "metadata": {},
   "outputs": [],
   "source": [
    "class CNN(nn.Module):\n",
    "  def __init__(self):\n",
    "    super(CNN,self).__init__()\n",
    "    self.layer=nn.Sequential(nn.Conv2d(3,16,5), nn.ReLU(),nn.Conv2d(16,32,5),nn.ReLU(),\n",
    "    nn.MaxPool2d(2,2), nn.Conv2d(32,64,5), nn.ReLU(), nn.MaxPool2d(2,2))\n",
    "    self.fc_layer=nn.Sequential(nn.Linear(1024,100),nn.ReLU(),nn.Linear(100, 10))\n",
    "  def forward(self, x):\n",
    "    out=self.layer(x)\n",
    "    out=out.view(batch_size, -1)\n",
    "    out=self.fc_layer(out)\n",
    "    return out"
   ]
  },
  {
   "cell_type": "code",
   "execution_count": 6,
   "metadata": {},
   "outputs": [
    {
     "name": "stdout",
     "output_type": "stream",
     "text": [
      "cpu\n"
     ]
    }
   ],
   "source": [
    "device = torch.device(\"cuda:0\" if torch.cuda.is_available() else \"cpu\") \n",
    "print(device)"
   ]
  },
  {
   "cell_type": "code",
   "execution_count": 7,
   "metadata": {},
   "outputs": [],
   "source": [
    "model=CNN().to(device)\n",
    "loss_func=nn.CrossEntropyLoss()\n",
    "optimizer=torch.optim.Adam(model.parameters(), lr=learning_rate)"
   ]
  },
  {
   "cell_type": "code",
   "execution_count": 8,
   "metadata": {},
   "outputs": [
    {
     "name": "stdout",
     "output_type": "stream",
     "text": [
      "tensor(2.3001, grad_fn=<NllLossBackward>)\n",
      "tensor(1.6023, grad_fn=<NllLossBackward>)\n",
      "tensor(1.3010, grad_fn=<NllLossBackward>)\n",
      "tensor(1.2093, grad_fn=<NllLossBackward>)\n",
      "tensor(1.0976, grad_fn=<NllLossBackward>)\n",
      "tensor(1.0341, grad_fn=<NllLossBackward>)\n",
      "tensor(0.9234, grad_fn=<NllLossBackward>)\n",
      "tensor(0.8035, grad_fn=<NllLossBackward>)\n",
      "tensor(0.7775, grad_fn=<NllLossBackward>)\n",
      "tensor(0.7855, grad_fn=<NllLossBackward>)\n"
     ]
    }
   ],
   "source": [
    "loss_arr=[]\n",
    "for i in range(num_epoch):\n",
    "  for j,[image,label] in enumerate(train_loader):\n",
    "    x=image.to(device)\n",
    "    y_=label.to(device)\n",
    "\n",
    "    optimizer.zero_grad()\n",
    "    output=model.forward(x)\n",
    "    loss=loss_func(output, y_)\n",
    "    loss.backward()\n",
    "    optimizer.step()\n",
    "\n",
    "    if j%1000==0:\n",
    "      print(loss)\n",
    "      loss_arr.append(loss.cpu().detach().numpy())"
   ]
  },
  {
   "cell_type": "code",
   "execution_count": 9,
   "metadata": {},
   "outputs": [
    {
     "data": {
      "image/png": "[encoded data removed]",
      "text/plain": [
       "<Figure size 432x288 with 1 Axes>"
      ]
     },
     "metadata": {
      "needs_background": "light"
     },
     "output_type": "display_data"
    }
   ],
   "source": [
    "import matplotlib.pyplot as plt\n",
    "plt.plot(loss_arr)\n",
    "plt.show()"
   ]
  },
  {
   "cell_type": "code",
   "execution_count": 10,
   "metadata": {},
   "outputs": [
    {
     "name": "stdout",
     "output_type": "stream",
     "text": [
      "Accuracy of Test Data: 68.60977935791016%\n"
     ]
    }
   ],
   "source": [
    "correct = 0\n",
    "total = 0\n",
    "\n",
    "with torch.no_grad():\n",
    "    for image,label in test_loader:\n",
    "        x = image.to(device)\n",
    "        y_= label.to(device)\n",
    "        output = model.forward(x)\n",
    "        _,output_index = torch.max(output,1)\n",
    "        total += label.size(0)\n",
    "        correct += (output_index == y_).sum().float()\n",
    "    print(\"Accuracy of Test Data: {}%\".format(100*correct/total))"
   ]
  },
  {
   "cell_type": "code",
   "execution_count": null,
   "metadata": {},
   "outputs": [],
   "source": []
  }
 ],
 "metadata": {
  "kernelspec": {
   "display_name": "Python 3",
   "language": "python",
   "name": "python3"
  },
  "language_info": {
   "codemirror_mode": {
    "name": "ipython",
    "version": 3
   },
   "file_extension": ".py",
   "mimetype": "text/x-python",
   "name": "python",
   "nbconvert_exporter": "python",
   "pygments_lexer": "ipython3",
   "version": "3.7.6"
  }
 },
 "nbformat": 4,
 "nbformat_minor": 2
}
