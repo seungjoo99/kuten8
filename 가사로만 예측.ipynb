{
 "cells": [
  {
   "cell_type": "code",
   "execution_count": 1,
   "metadata": {},
   "outputs": [],
   "source": [
    "import pandas as pd\n",
    "import numpy as np\n",
    "import konlpy\n",
    "import sys\n",
    "if sys.version_info <= (2,7):\n",
    "    reload(sys)\n",
    "    sys.setdefaultencoding('utf-8')\n",
    "from konlpy.tag import Kkma, Okt, Hannanum\n",
    "import matplotlib.pyplot as plt\n",
    "from sklearn.model_selection import train_test_split\n",
    "kkma = Kkma()\n",
    "okt = Okt()\n",
    "hannanum = Hannanum()\n",
    "\n",
    "\n",
    "bal=pd.read_csv('data/melonbal.csv', encoding='cp949')\n",
    "dan=pd.read_csv('data/melondan.csv', encoding='cp949')\n",
    "hip=pd.read_csv('data/melonhip.csv', encoding='cp949')\n",
    "rb=pd.read_csv('data/melonr_b.csv', encoding='cp949')\n",
    "indi=pd.read_csv('data/melonindi.csv', encoding='cp949')\n",
    "rock=pd.read_csv('data/melonrock.csv', encoding='cp949')\n",
    "tst=pd.read_csv('data/melontwist.csv', encoding='cp949')\n",
    "bf=pd.read_csv('data/melonbluefork.csv', encoding='cp949')"
   ]
  },
  {
   "cell_type": "code",
   "execution_count": 2,
   "metadata": {},
   "outputs": [],
   "source": [
    "bal=bal.drop([' 제목'], axis=1)\n",
    "bal=bal.drop(['랭크'], axis=1)\n",
    "dan=dan.drop([' 제목'], axis=1)\n",
    "dan=dan.drop(['랭크'], axis=1)\n",
    "hip=hip.drop([' 제목'], axis=1)\n",
    "hip=hip.drop(['랭크'], axis=1)\n",
    "rb=rb.drop([' 제목'], axis=1)\n",
    "rb=rb.drop(['랭크'], axis=1)\n",
    "indi=indi.drop([' 제목'], axis=1)\n",
    "indi=indi.drop(['랭크'], axis=1)\n",
    "rock=rock.drop([' 제목'], axis=1)\n",
    "rock=rock.drop(['랭크'], axis=1)\n",
    "tst=tst.drop([' 제목'], axis=1)\n",
    "tst=tst.drop(['랭크'], axis=1)\n",
    "bf=bf.drop([' 제목'], axis=1)\n",
    "bf=bf.drop(['랭크'], axis=1)"
   ]
  },
  {
   "cell_type": "code",
   "execution_count": 3,
   "metadata": {},
   "outputs": [],
   "source": [
    "bal['genre']=1\n",
    "dan['genre']=2\n",
    "hip['genre']=3\n",
    "rb['genre']=4\n",
    "indi['genre']=5\n",
    "rock['genre']=6\n",
    "tst['genre']=7\n",
    "bf['genre']=8"
   ]
  },
  {
   "cell_type": "code",
   "execution_count": 4,
   "metadata": {},
   "outputs": [],
   "source": [
    "import csv\n",
    "import random\n",
    "%matplotlib inline\n",
    "import matplotlib.pyplot as plt\n",
    "import numpy as np"
   ]
  },
  {
   "cell_type": "code",
   "execution_count": 23,
   "metadata": {},
   "outputs": [],
   "source": [
    "train = pd.concat([bal, dan, hip, rock, tst, bf],join='inner')\n",
    "train.to_csv('test.csv',encoding='CP949')"
   ]
  },
  {
   "cell_type": "code",
   "execution_count": 24,
   "metadata": {},
   "outputs": [
    {
     "data": {
      "text/html": [
       "<div>\n",
       "<style scoped>\n",
       "    .dataframe tbody tr th:only-of-type {\n",
       "        vertical-align: middle;\n",
       "    }\n",
       "\n",
       "    .dataframe tbody tr th {\n",
       "        vertical-align: top;\n",
       "    }\n",
       "\n",
       "    .dataframe thead th {\n",
       "        text-align: right;\n",
       "    }\n",
       "</style>\n",
       "<table border=\"1\" class=\"dataframe\">\n",
       "  <thead>\n",
       "    <tr style=\"text-align: right;\">\n",
       "      <th></th>\n",
       "      <th>발매월</th>\n",
       "      <th>타입</th>\n",
       "      <th>가사</th>\n",
       "      <th>genre</th>\n",
       "    </tr>\n",
       "  </thead>\n",
       "  <tbody>\n",
       "    <tr>\n",
       "      <th>0</th>\n",
       "      <td>4.0</td>\n",
       "      <td>그룹</td>\n",
       "      <td>길었던 겨우내 줄곧 품이 좀 남는 밤색 코트 그 속에 나를 쏙 감추고 걸음을 재촉해...</td>\n",
       "      <td>1</td>\n",
       "    </tr>\n",
       "    <tr>\n",
       "      <th>1</th>\n",
       "      <td>12.0</td>\n",
       "      <td>솔로</td>\n",
       "      <td>월요일엔 아마 바쁘지 않을까 화요일도 성급해 보이지 안 그래 수요일은 뭔가 어정쩡한...</td>\n",
       "      <td>1</td>\n",
       "    </tr>\n",
       "    <tr>\n",
       "      <th>2</th>\n",
       "      <td>5.0</td>\n",
       "      <td>솔로</td>\n",
       "      <td>너의 그 한 마디 말도 그 웃음도 나에겐 커다란 의미 너의 그 작은 눈빛도 쓸쓸한 ...</td>\n",
       "      <td>1</td>\n",
       "    </tr>\n",
       "    <tr>\n",
       "      <th>3</th>\n",
       "      <td>10.0</td>\n",
       "      <td>솔로</td>\n",
       "      <td>어느새 길어진 그림자를 따라서 땅거미 진 어둠 속을 그대와 걷고 있네요 손을 마주잡...</td>\n",
       "      <td>1</td>\n",
       "    </tr>\n",
       "    <tr>\n",
       "      <th>4</th>\n",
       "      <td>11.0</td>\n",
       "      <td>그룹</td>\n",
       "      <td>니 생각에 꽤 즐겁고 니 생각에 퍽 외로워 이상한 일이야 누굴 좋아한단 건 아무 일...</td>\n",
       "      <td>1</td>\n",
       "    </tr>\n",
       "    <tr>\n",
       "      <th>...</th>\n",
       "      <td>...</td>\n",
       "      <td>...</td>\n",
       "      <td>...</td>\n",
       "      <td>...</td>\n",
       "    </tr>\n",
       "    <tr>\n",
       "      <th>1451</th>\n",
       "      <td>10.0</td>\n",
       "      <td>그룹</td>\n",
       "      <td>너무 오래 만난 것 같아 함께 있으면서 대화가 없어 이미 서로 많이 알아 버린 것 ...</td>\n",
       "      <td>8</td>\n",
       "    </tr>\n",
       "    <tr>\n",
       "      <th>1452</th>\n",
       "      <td>9.0</td>\n",
       "      <td>솔로</td>\n",
       "      <td>오늘도 그대는 여기에 있군요 똑같은 자리에 똑같은 가방이 어느새 찾아온 일상처럼 묘...</td>\n",
       "      <td>8</td>\n",
       "    </tr>\n",
       "    <tr>\n",
       "      <th>1453</th>\n",
       "      <td>12.0</td>\n",
       "      <td>솔로</td>\n",
       "      <td>저 들에 푸르른 솔잎을 보라 돌보는 사람도 하나 없는데 비바람 맞고 눈보라 쳐도 온...</td>\n",
       "      <td>8</td>\n",
       "    </tr>\n",
       "    <tr>\n",
       "      <th>1454</th>\n",
       "      <td>11.0</td>\n",
       "      <td>그룹</td>\n",
       "      <td>살며시 다가와 품에 안고 빛나는 사랑을 꿈꾸게 하네 살며시 다가와 입 맞추고 영원한...</td>\n",
       "      <td>8</td>\n",
       "    </tr>\n",
       "    <tr>\n",
       "      <th>1455</th>\n",
       "      <td>7.0</td>\n",
       "      <td>그룹</td>\n",
       "      <td>오늘은 분명히 날이 좋다 했는데 하나둘 몰려오는 구름 수상해 이런 날이면 괜히 느는...</td>\n",
       "      <td>8</td>\n",
       "    </tr>\n",
       "  </tbody>\n",
       "</table>\n",
       "<p>1456 rows × 4 columns</p>\n",
       "</div>"
      ],
      "text/plain": [
       "       발매월  타입                                                 가사  genre\n",
       "0      4.0  그룹  길었던 겨우내 줄곧 품이 좀 남는 밤색 코트 그 속에 나를 쏙 감추고 걸음을 재촉해...      1\n",
       "1     12.0  솔로  월요일엔 아마 바쁘지 않을까 화요일도 성급해 보이지 안 그래 수요일은 뭔가 어정쩡한...      1\n",
       "2      5.0  솔로  너의 그 한 마디 말도 그 웃음도 나에겐 커다란 의미 너의 그 작은 눈빛도 쓸쓸한 ...      1\n",
       "3     10.0  솔로  어느새 길어진 그림자를 따라서 땅거미 진 어둠 속을 그대와 걷고 있네요 손을 마주잡...      1\n",
       "4     11.0  그룹  니 생각에 꽤 즐겁고 니 생각에 퍽 외로워 이상한 일이야 누굴 좋아한단 건 아무 일...      1\n",
       "...    ...  ..                                                ...    ...\n",
       "1451  10.0  그룹  너무 오래 만난 것 같아 함께 있으면서 대화가 없어 이미 서로 많이 알아 버린 것 ...      8\n",
       "1452   9.0  솔로  오늘도 그대는 여기에 있군요 똑같은 자리에 똑같은 가방이 어느새 찾아온 일상처럼 묘...      8\n",
       "1453  12.0  솔로  저 들에 푸르른 솔잎을 보라 돌보는 사람도 하나 없는데 비바람 맞고 눈보라 쳐도 온...      8\n",
       "1454  11.0  그룹  살며시 다가와 품에 안고 빛나는 사랑을 꿈꾸게 하네 살며시 다가와 입 맞추고 영원한...      8\n",
       "1455   7.0  그룹  오늘은 분명히 날이 좋다 했는데 하나둘 몰려오는 구름 수상해 이런 날이면 괜히 느는...      8\n",
       "\n",
       "[1456 rows x 4 columns]"
      ]
     },
     "execution_count": 24,
     "metadata": {},
     "output_type": "execute_result"
    }
   ],
   "source": [
    "test = pd.read_csv('test.csv',header=0, encoding='CP949',error_bad_lines=False)\n",
    "test = test.drop('Unnamed: 0',axis=1)\n",
    "test"
   ]
  },
  {
   "cell_type": "code",
   "execution_count": 28,
   "metadata": {},
   "outputs": [],
   "source": [
    "X_data = test[['가사']]\n",
    "Y_data = train['genre']"
   ]
  },
  {
   "cell_type": "code",
   "execution_count": 29,
   "metadata": {},
   "outputs": [
    {
     "data": {
      "text/html": [
       "<div>\n",
       "<style scoped>\n",
       "    .dataframe tbody tr th:only-of-type {\n",
       "        vertical-align: middle;\n",
       "    }\n",
       "\n",
       "    .dataframe tbody tr th {\n",
       "        vertical-align: top;\n",
       "    }\n",
       "\n",
       "    .dataframe thead th {\n",
       "        text-align: right;\n",
       "    }\n",
       "</style>\n",
       "<table border=\"1\" class=\"dataframe\">\n",
       "  <thead>\n",
       "    <tr style=\"text-align: right;\">\n",
       "      <th></th>\n",
       "      <th>가사</th>\n",
       "    </tr>\n",
       "  </thead>\n",
       "  <tbody>\n",
       "    <tr>\n",
       "      <th>0</th>\n",
       "      <td>길었던 겨우내 줄곧 품이 좀 남는 밤색 코트 그 속에 나를 쏙 감추고 걸음을 재촉해...</td>\n",
       "    </tr>\n",
       "    <tr>\n",
       "      <th>1</th>\n",
       "      <td>월요일엔 아마 바쁘지 않을까 화요일도 성급해 보이지 안 그래 수요일은 뭔가 어정쩡한...</td>\n",
       "    </tr>\n",
       "    <tr>\n",
       "      <th>2</th>\n",
       "      <td>너의 그 한 마디 말도 그 웃음도 나에겐 커다란 의미 너의 그 작은 눈빛도 쓸쓸한 ...</td>\n",
       "    </tr>\n",
       "    <tr>\n",
       "      <th>3</th>\n",
       "      <td>어느새 길어진 그림자를 따라서 땅거미 진 어둠 속을 그대와 걷고 있네요 손을 마주잡...</td>\n",
       "    </tr>\n",
       "    <tr>\n",
       "      <th>4</th>\n",
       "      <td>니 생각에 꽤 즐겁고 니 생각에 퍽 외로워 이상한 일이야 누굴 좋아한단 건 아무 일...</td>\n",
       "    </tr>\n",
       "    <tr>\n",
       "      <th>...</th>\n",
       "      <td>...</td>\n",
       "    </tr>\n",
       "    <tr>\n",
       "      <th>1451</th>\n",
       "      <td>너무 오래 만난 것 같아 함께 있으면서 대화가 없어 이미 서로 많이 알아 버린 것 ...</td>\n",
       "    </tr>\n",
       "    <tr>\n",
       "      <th>1452</th>\n",
       "      <td>오늘도 그대는 여기에 있군요 똑같은 자리에 똑같은 가방이 어느새 찾아온 일상처럼 묘...</td>\n",
       "    </tr>\n",
       "    <tr>\n",
       "      <th>1453</th>\n",
       "      <td>저 들에 푸르른 솔잎을 보라 돌보는 사람도 하나 없는데 비바람 맞고 눈보라 쳐도 온...</td>\n",
       "    </tr>\n",
       "    <tr>\n",
       "      <th>1454</th>\n",
       "      <td>살며시 다가와 품에 안고 빛나는 사랑을 꿈꾸게 하네 살며시 다가와 입 맞추고 영원한...</td>\n",
       "    </tr>\n",
       "    <tr>\n",
       "      <th>1455</th>\n",
       "      <td>오늘은 분명히 날이 좋다 했는데 하나둘 몰려오는 구름 수상해 이런 날이면 괜히 느는...</td>\n",
       "    </tr>\n",
       "  </tbody>\n",
       "</table>\n",
       "<p>1456 rows × 1 columns</p>\n",
       "</div>"
      ],
      "text/plain": [
       "                                                     가사\n",
       "0     길었던 겨우내 줄곧 품이 좀 남는 밤색 코트 그 속에 나를 쏙 감추고 걸음을 재촉해...\n",
       "1     월요일엔 아마 바쁘지 않을까 화요일도 성급해 보이지 안 그래 수요일은 뭔가 어정쩡한...\n",
       "2     너의 그 한 마디 말도 그 웃음도 나에겐 커다란 의미 너의 그 작은 눈빛도 쓸쓸한 ...\n",
       "3     어느새 길어진 그림자를 따라서 땅거미 진 어둠 속을 그대와 걷고 있네요 손을 마주잡...\n",
       "4     니 생각에 꽤 즐겁고 니 생각에 퍽 외로워 이상한 일이야 누굴 좋아한단 건 아무 일...\n",
       "...                                                 ...\n",
       "1451  너무 오래 만난 것 같아 함께 있으면서 대화가 없어 이미 서로 많이 알아 버린 것 ...\n",
       "1452  오늘도 그대는 여기에 있군요 똑같은 자리에 똑같은 가방이 어느새 찾아온 일상처럼 묘...\n",
       "1453  저 들에 푸르른 솔잎을 보라 돌보는 사람도 하나 없는데 비바람 맞고 눈보라 쳐도 온...\n",
       "1454  살며시 다가와 품에 안고 빛나는 사랑을 꿈꾸게 하네 살며시 다가와 입 맞추고 영원한...\n",
       "1455  오늘은 분명히 날이 좋다 했는데 하나둘 몰려오는 구름 수상해 이런 날이면 괜히 느는...\n",
       "\n",
       "[1456 rows x 1 columns]"
      ]
     },
     "execution_count": 29,
     "metadata": {},
     "output_type": "execute_result"
    }
   ],
   "source": [
    "train_data = test[['가사']]\n",
    "target_data = test[['genre']]\n",
    "train_data=train_data.fillna(0)\n",
    "train_data"
   ]
  },
  {
   "cell_type": "code",
   "execution_count": 30,
   "metadata": {},
   "outputs": [],
   "source": [
    "matrix=[]\n",
    "for lyrics in train_data['가사']:\n",
    "    lyric_X = []\n",
    "    lyric_X = okt.nouns(lyrics)\n",
    "    matrix.append(lyric_X)"
   ]
  },
  {
   "cell_type": "code",
   "execution_count": 31,
   "metadata": {},
   "outputs": [
    {
     "name": "stdout",
     "output_type": "stream",
     "text": [
      "517\n",
      "98.26923076923077\n"
     ]
    }
   ],
   "source": [
    "from tensorflow.keras.preprocessing.text import Tokenizer\n",
    "from tensorflow.keras.preprocessing.sequence import pad_sequences\n",
    "max_words = 35000\n",
    "tokenizer = Tokenizer(num_words=max_words)\n",
    "tokenizer.fit_on_texts(matrix)\n",
    "sequences = tokenizer.texts_to_sequences(matrix)\n",
    "train_data['가사'] =  sequences\n",
    "print(max(len(l) for l in train_data['가사']))\n",
    "print(sum(map(len,train_data['가사']))/len(train_data['가사']))"
   ]
  },
  {
   "cell_type": "code",
   "execution_count": 32,
   "metadata": {},
   "outputs": [],
   "source": [
    "max_len = 517\n",
    "data = pad_sequences(sequences, maxlen=max_len)\n",
    "sequences=data"
   ]
  },
  {
   "cell_type": "code",
   "execution_count": 33,
   "metadata": {},
   "outputs": [
    {
     "data": {
      "text/plain": [
       "array([[   0,    0,    0, ...,  208,    3,  634],\n",
       "       [   0,    0,    0, ...,  425,   19,  425],\n",
       "       [   0,    0,    0, ...,  404,    4,  145],\n",
       "       ...,\n",
       "       [   0,    0,    0, ...,  440,  661,  440],\n",
       "       [   0,    0,    0, ...,    3,    3,   33],\n",
       "       [   0,    0,    0, ...,   90, 1852,  873]])"
      ]
     },
     "execution_count": 33,
     "metadata": {},
     "output_type": "execute_result"
    }
   ],
   "source": [
    "sequences"
   ]
  },
  {
   "cell_type": "code",
   "execution_count": 34,
   "metadata": {},
   "outputs": [
    {
     "data": {
      "text/plain": [
       "array([[   0,    0,    0, ...,   25,    3,   48],\n",
       "       [   0,    0,    0, ...,  423, 1275,   88],\n",
       "       [   0,    0,    0, ...,    6,    5,    2],\n",
       "       [   0,    0,    0, ...,   57,    2,  145],\n",
       "       [   0,    0,    0, ...,  177,   43,   37]])"
      ]
     },
     "execution_count": 34,
     "metadata": {},
     "output_type": "execute_result"
    }
   ],
   "source": [
    "x_train,x_test,y_train,y_test = train_test_split(data,target_data,test_size=0.2)\n",
    "x_test[0:5]"
   ]
  },
  {
   "cell_type": "code",
   "execution_count": 35,
   "metadata": {},
   "outputs": [
    {
     "data": {
      "text/plain": [
       "array([[3],\n",
       "       [6],\n",
       "       [1],\n",
       "       ...,\n",
       "       [7],\n",
       "       [7],\n",
       "       [8]], dtype=int64)"
      ]
     },
     "execution_count": 35,
     "metadata": {},
     "output_type": "execute_result"
    }
   ],
   "source": [
    "y_test = np.array(y_test)\n",
    "y_train = np.array(y_train)\n",
    "x_train = np.array(list(x for x in x_train))\n",
    "x_test = np.array(x_test)\n",
    "y_train"
   ]
  },
  {
   "cell_type": "code",
   "execution_count": 36,
   "metadata": {},
   "outputs": [
    {
     "name": "stdout",
     "output_type": "stream",
     "text": [
      "training set accuracy: 0.993127147766323\n",
      "test set accuracy: 0.2465753424657534\n"
     ]
    },
    {
     "data": {
      "text/plain": [
       "array([8, 8, 8, 6, 6, 3, 2, 6, 8, 1, 7, 7, 3, 3, 3, 3, 1, 1, 7, 6, 6, 8,\n",
       "       2, 7, 3, 6, 8, 2, 8, 3, 3, 8, 3, 8, 6, 8, 1, 1, 3, 6, 6, 7, 7, 2,\n",
       "       1, 2, 2, 1, 1, 7, 3, 7, 1, 2, 3, 7, 8, 1, 6, 6, 2, 3, 1, 3, 6, 7,\n",
       "       1, 7, 1, 1, 1, 2, 1, 6, 8, 6, 6, 2, 7, 7, 6, 6, 1, 6, 6, 7, 3, 3,\n",
       "       2, 8, 7, 1, 2, 8, 3, 3, 8, 1, 6, 7, 2, 1, 7, 8, 7, 3, 1, 6, 6, 3,\n",
       "       6, 3, 6, 8, 2, 1, 1, 1, 2, 8, 8, 7, 1, 7, 2, 8, 6, 6, 6, 7, 7, 3,\n",
       "       6, 2, 7, 1, 8, 3, 8, 1, 3, 1, 3, 7, 8, 3, 1, 7, 6, 2, 2, 2, 7, 2,\n",
       "       3, 8, 2, 2, 7, 7, 3, 7, 8, 8, 1, 7, 6, 8, 8, 8, 6, 7, 1, 8, 6, 2,\n",
       "       3, 8, 6, 3, 6, 1, 6, 6, 2, 6, 1, 6, 7, 3, 3, 2, 6, 8, 6, 2, 6, 1,\n",
       "       7, 7, 2, 3, 6, 6, 7, 7, 7, 1, 8, 3, 3, 7, 1, 7, 2, 1, 8, 2, 8, 1,\n",
       "       7, 8, 1, 1, 8, 8, 8, 1, 2, 8, 8, 3, 6, 1, 1, 6, 7, 1, 1, 2, 8, 6,\n",
       "       1, 6, 6, 1, 3, 6, 3, 1, 7, 6, 1, 3, 6, 2, 1, 1, 2, 8, 6, 2, 6, 6,\n",
       "       1, 1, 1, 2, 1, 1, 2, 1, 6, 8, 7, 6, 2, 8, 2, 8, 1, 6, 3, 3, 6, 1,\n",
       "       8, 2, 6, 8, 2, 6], dtype=int64)"
      ]
     },
     "execution_count": 36,
     "metadata": {},
     "output_type": "execute_result"
    }
   ],
   "source": [
    "\n",
    "from sklearn.tree import DecisionTreeClassifier\n",
    "tree = DecisionTreeClassifier()\n",
    "tree.fit(x_train,y_train)\n",
    "\n",
    "print('training set accuracy:',tree.score(x_train, y_train))\n",
    "print('test set accuracy:',tree.score(x_test,y_test))\n",
    "\n",
    "prediction_by_tree = tree.predict(x_test)\n",
    "prediction_by_tree"
   ]
  },
  {
   "cell_type": "code",
   "execution_count": 37,
   "metadata": {},
   "outputs": [
    {
     "name": "stdout",
     "output_type": "stream",
     "text": [
      "training set accuracy: 0.9853951890034365\n",
      "test set accuracy: 0.3047945205479452\n"
     ]
    },
    {
     "name": "stderr",
     "output_type": "stream",
     "text": [
      "C:\\anaconda\\lib\\site-packages\\ipykernel_launcher.py:3: DataConversionWarning: A column-vector y was passed when a 1d array was expected. Please change the shape of y to (n_samples,), for example using ravel().\n",
      "  This is separate from the ipykernel package so we can avoid doing imports until\n"
     ]
    },
    {
     "data": {
      "text/plain": [
       "array([3, 6, 2, 8, 6, 2, 3, 2, 7, 6, 7, 7, 3, 2, 8, 3, 3, 1, 3, 2, 1, 7,\n",
       "       3, 6, 1, 1, 8, 1, 8, 3, 3, 6, 3, 2, 6, 1, 6, 3, 8, 7, 1, 8, 7, 3,\n",
       "       6, 8, 3, 1, 6, 7, 8, 7, 1, 6, 8, 6, 3, 1, 1, 6, 3, 2, 6, 3, 1, 8,\n",
       "       1, 8, 6, 2, 1, 7, 3, 6, 1, 2, 7, 8, 7, 8, 1, 6, 1, 7, 1, 8, 3, 3,\n",
       "       2, 1, 7, 6, 1, 7, 3, 3, 6, 1, 1, 7, 2, 7, 7, 2, 7, 3, 1, 6, 8, 2,\n",
       "       6, 2, 2, 7, 2, 1, 1, 8, 1, 8, 7, 6, 3, 8, 1, 7, 2, 7, 6, 3, 7, 2,\n",
       "       1, 3, 8, 6, 8, 3, 1, 1, 1, 6, 1, 7, 8, 3, 1, 2, 6, 2, 3, 2, 7, 2,\n",
       "       3, 8, 2, 1, 1, 7, 1, 7, 7, 1, 8, 6, 6, 6, 2, 6, 1, 7, 8, 6, 1, 2,\n",
       "       2, 7, 1, 2, 3, 1, 7, 1, 3, 2, 2, 1, 6, 1, 3, 2, 6, 1, 6, 3, 7, 1,\n",
       "       8, 8, 2, 1, 1, 6, 8, 7, 7, 6, 7, 3, 1, 8, 7, 7, 2, 1, 7, 2, 6, 3,\n",
       "       1, 2, 6, 6, 2, 7, 7, 1, 1, 2, 2, 3, 7, 1, 7, 6, 6, 8, 7, 2, 6, 3,\n",
       "       8, 6, 1, 2, 8, 6, 3, 7, 7, 6, 3, 2, 7, 2, 8, 1, 3, 1, 6, 3, 6, 7,\n",
       "       1, 2, 2, 3, 1, 6, 1, 2, 6, 1, 7, 7, 6, 1, 2, 6, 6, 8, 2, 3, 1, 8,\n",
       "       7, 1, 6, 8, 3, 3], dtype=int64)"
      ]
     },
     "execution_count": 37,
     "metadata": {},
     "output_type": "execute_result"
    }
   ],
   "source": [
    "from sklearn.ensemble import RandomForestClassifier\n",
    "forest = RandomForestClassifier(n_estimators=10)\n",
    "forest.fit(x_train,y_train)\n",
    "\n",
    "print('training set accuracy:',forest.score(x_train,y_train))\n",
    "print('test set accuracy:',forest.score(x_test,y_test))\n",
    "\n",
    "prediction_by_forest = forest.predict(x_test)\n",
    "prediction_by_forest"
   ]
  },
  {
   "cell_type": "code",
   "execution_count": null,
   "metadata": {},
   "outputs": [],
   "source": []
  }
 ],
 "metadata": {
  "kernelspec": {
   "display_name": "Python 3",
   "language": "python",
   "name": "python3"
  },
  "language_info": {
   "codemirror_mode": {
    "name": "ipython",
    "version": 3
   },
   "file_extension": ".py",
   "mimetype": "text/x-python",
   "name": "python",
   "nbconvert_exporter": "python",
   "pygments_lexer": "ipython3",
   "version": "3.7.6"
  }
 },
 "nbformat": 4,
 "nbformat_minor": 2
}
